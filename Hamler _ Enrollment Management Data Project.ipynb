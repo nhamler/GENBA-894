{
 "cells": [
  {
   "cell_type": "code",
   "execution_count": 1,
   "metadata": {},
   "outputs": [],
   "source": [
    "# Import Python packages\n",
    "\n",
    "import pandas as pd\n",
    "import numpy as np\n",
    "import seaborn as sns\n",
    "import matplotlib.pyplot as plt\n",
    "%matplotlib inline\n",
    "\n",
    "from datetime import datetime\n",
    "\n",
    "# Regression packages\n",
    "import sklearn.linear_model as lm\n",
    "from sklearn.metrics import mean_squared_error\n",
    "from sklearn.metrics import explained_variance_score\n",
    "import statsmodels.formula.api as sm\n",
    "from sklearn import linear_model\n",
    "from sklearn.feature_selection import f_regression\n",
    "from sklearn.feature_selection import SelectKBest\n",
    "from sklearn.feature_selection import RFE\n",
    "from sklearn.ensemble import RandomForestRegressor\n",
    "from sklearn.datasets import make_regression\n",
    "from sklearn.svm import SVR\n",
    "import statsmodels\n",
    "from scipy import stats\n",
    "from pandas.plotting import scatter_matrix\n",
    "import scipy.stats as stats"
   ]
  },
  {
   "cell_type": "markdown",
   "metadata": {},
   "source": [
    "### 1. Import Dataset \n",
    "Data Description:\n",
    "* Collected undergraduate student applicant data from the Kansas State University Student Information System (KSIS) \n",
    "* Student applicant demographics\n",
    "* Years: 2012 through 2019\n",
    "\n",
    "Data Fields:\n",
    "> * ID: equivalent to primary key identifier\n",
    "> * State: continental US States only\n",
    "> * Age \n",
    "> * Gender\n",
    "> * Citizenship: As disclosed by student during application process; for US students populated with 'US'\n",
    "> * Ethnicity: as given by student during application process\n",
    "> * Residency: IS = In-State (KS); OS = Out of State (non-KS)\n",
    "> * Admit Term\n",
    "> * College: college and program that student has applied to\n",
    "> * Degree / Non-Degree: status of application for degree program vs. non-degree program (e.g. certificate)\n",
    "> * Application Center: K-State campust to which student has applied\n",
    "> * Admit Type: traditional freshmen, re-admits, online students, or transfer students\n",
    "> * Status: current status of student's application / program \n",
    "> * Application Date: date when application was submitted to / received by K-State\n",
    "> * Admit Status: derived from now deleted column 'Admit Date', which if exists = 'Admitted', otherwise: 'Not Admitted'\n",
    "> * Enrolled Status: derived from now deleted column 'Enrollment Date', which if exists = 'Enrolled', otherwise: 'Not Enrolled'\n",
    "> * Withdrew?: did the student at any point withdraw after having been admitted\n",
    "\n",
    "Pre-Processing Steps:\n",
    "* Data pre-cleaned via Excel:\n",
    "> * Verified data consistency, integrity, and accuracy\n",
    "> * Deleted identifing information and non-demographic data\n",
    "> * Original 185 data points reduced to 17"
   ]
  },
  {
   "cell_type": "code",
   "execution_count": 2,
   "metadata": {},
   "outputs": [
    {
     "data": {
      "text/html": [
       "<div>\n",
       "<style scoped>\n",
       "    .dataframe tbody tr th:only-of-type {\n",
       "        vertical-align: middle;\n",
       "    }\n",
       "\n",
       "    .dataframe tbody tr th {\n",
       "        vertical-align: top;\n",
       "    }\n",
       "\n",
       "    .dataframe thead th {\n",
       "        text-align: right;\n",
       "    }\n",
       "</style>\n",
       "<table border=\"1\" class=\"dataframe\">\n",
       "  <thead>\n",
       "    <tr style=\"text-align: right;\">\n",
       "      <th></th>\n",
       "      <th>ID</th>\n",
       "      <th>State</th>\n",
       "      <th>Age</th>\n",
       "      <th>Gender</th>\n",
       "      <th>Citizenship</th>\n",
       "      <th>Ethnicity</th>\n",
       "      <th>Residency</th>\n",
       "      <th>Admit Term</th>\n",
       "      <th>College</th>\n",
       "      <th>Degree / Non-Degree</th>\n",
       "      <th>Application Center</th>\n",
       "      <th>Admit Type</th>\n",
       "      <th>Status</th>\n",
       "      <th>Application Date</th>\n",
       "      <th>Admit Status</th>\n",
       "      <th>Enrolled Status</th>\n",
       "      <th>Withdrew?</th>\n",
       "    </tr>\n",
       "  </thead>\n",
       "  <tbody>\n",
       "    <tr>\n",
       "      <th>0</th>\n",
       "      <td>132441</td>\n",
       "      <td>KS</td>\n",
       "      <td>70.0</td>\n",
       "      <td>M</td>\n",
       "      <td>US</td>\n",
       "      <td>African American</td>\n",
       "      <td>IS</td>\n",
       "      <td>Fall 2019</td>\n",
       "      <td>Health &amp; Human Sciences</td>\n",
       "      <td>Degree</td>\n",
       "      <td>Global Campus</td>\n",
       "      <td>Online</td>\n",
       "      <td>Cancelled</td>\n",
       "      <td>2019-05-16</td>\n",
       "      <td>Admitted</td>\n",
       "      <td>Not Enrolled</td>\n",
       "      <td>N</td>\n",
       "    </tr>\n",
       "    <tr>\n",
       "      <th>1</th>\n",
       "      <td>921672</td>\n",
       "      <td>CA</td>\n",
       "      <td>69.0</td>\n",
       "      <td>M</td>\n",
       "      <td>US</td>\n",
       "      <td>White</td>\n",
       "      <td>OS</td>\n",
       "      <td>Fall 2019</td>\n",
       "      <td>Agriculture</td>\n",
       "      <td>Non-Degree</td>\n",
       "      <td>Global Campus</td>\n",
       "      <td>Online</td>\n",
       "      <td>Active</td>\n",
       "      <td>2019-07-25</td>\n",
       "      <td>Admitted</td>\n",
       "      <td>Not Enrolled</td>\n",
       "      <td>N</td>\n",
       "    </tr>\n",
       "    <tr>\n",
       "      <th>2</th>\n",
       "      <td>922050</td>\n",
       "      <td>KS</td>\n",
       "      <td>67.0</td>\n",
       "      <td>M</td>\n",
       "      <td>US</td>\n",
       "      <td>White</td>\n",
       "      <td>IS</td>\n",
       "      <td>Fall 2019</td>\n",
       "      <td>Technology &amp; Aviation</td>\n",
       "      <td>Non-Degree</td>\n",
       "      <td>Polytechnic</td>\n",
       "      <td>Freshman</td>\n",
       "      <td>Active</td>\n",
       "      <td>2019-08-05</td>\n",
       "      <td>Admitted</td>\n",
       "      <td>Enrolled</td>\n",
       "      <td>N</td>\n",
       "    </tr>\n",
       "    <tr>\n",
       "      <th>3</th>\n",
       "      <td>922182</td>\n",
       "      <td>KS</td>\n",
       "      <td>63.0</td>\n",
       "      <td>F</td>\n",
       "      <td>US</td>\n",
       "      <td>White</td>\n",
       "      <td>IS</td>\n",
       "      <td>Fall 2019</td>\n",
       "      <td>Health &amp; Human Sciences</td>\n",
       "      <td>Non-Degree</td>\n",
       "      <td>Global Campus</td>\n",
       "      <td>Transfer</td>\n",
       "      <td>Active</td>\n",
       "      <td>2019-08-07</td>\n",
       "      <td>Admitted</td>\n",
       "      <td>Not Enrolled</td>\n",
       "      <td>N</td>\n",
       "    </tr>\n",
       "    <tr>\n",
       "      <th>4</th>\n",
       "      <td>905009</td>\n",
       "      <td>KS</td>\n",
       "      <td>63.0</td>\n",
       "      <td>M</td>\n",
       "      <td>US</td>\n",
       "      <td>White</td>\n",
       "      <td>IS</td>\n",
       "      <td>Fall 2019</td>\n",
       "      <td>Arts &amp; Sciences</td>\n",
       "      <td>Degree</td>\n",
       "      <td>Manhattan Main Campus</td>\n",
       "      <td>Readmit</td>\n",
       "      <td>Active</td>\n",
       "      <td>2019-05-21</td>\n",
       "      <td>Admitted</td>\n",
       "      <td>Enrolled</td>\n",
       "      <td>N</td>\n",
       "    </tr>\n",
       "  </tbody>\n",
       "</table>\n",
       "</div>"
      ],
      "text/plain": [
       "       ID State   Age Gender Citizenship         Ethnicity Residency  \\\n",
       "0  132441    KS  70.0      M          US  African American        IS   \n",
       "1  921672    CA  69.0      M          US             White        OS   \n",
       "2  922050    KS  67.0      M          US             White        IS   \n",
       "3  922182    KS  63.0      F          US             White        IS   \n",
       "4  905009    KS  63.0      M          US             White        IS   \n",
       "\n",
       "  Admit Term                  College Degree / Non-Degree  \\\n",
       "0  Fall 2019  Health & Human Sciences              Degree   \n",
       "1  Fall 2019              Agriculture          Non-Degree   \n",
       "2  Fall 2019    Technology & Aviation          Non-Degree   \n",
       "3  Fall 2019  Health & Human Sciences          Non-Degree   \n",
       "4  Fall 2019          Arts & Sciences              Degree   \n",
       "\n",
       "      Application Center Admit Type     Status Application Date Admit Status  \\\n",
       "0          Global Campus     Online  Cancelled       2019-05-16     Admitted   \n",
       "1          Global Campus     Online     Active       2019-07-25     Admitted   \n",
       "2            Polytechnic   Freshman     Active       2019-08-05     Admitted   \n",
       "3          Global Campus   Transfer     Active       2019-08-07     Admitted   \n",
       "4  Manhattan Main Campus    Readmit     Active       2019-05-21     Admitted   \n",
       "\n",
       "  Enrolled Status Withdrew?  \n",
       "0    Not Enrolled         N  \n",
       "1    Not Enrolled         N  \n",
       "2        Enrolled         N  \n",
       "3    Not Enrolled         N  \n",
       "4        Enrolled         N  "
      ]
     },
     "execution_count": 2,
     "metadata": {},
     "output_type": "execute_result"
    }
   ],
   "source": [
    "# Read and save master data file to continue processing\n",
    "stdnt_data = pd.read_excel('Student Data 2012 - 2019.xlsx')\n",
    "stdnt_data.head()"
   ]
  },
  {
   "cell_type": "markdown",
   "metadata": {},
   "source": [
    "### 2. Data Transformation and Cleaning"
   ]
  },
  {
   "cell_type": "code",
   "execution_count": 3,
   "metadata": {},
   "outputs": [
    {
     "name": "stdout",
     "output_type": "stream",
     "text": [
      "<class 'pandas.core.frame.DataFrame'>\n",
      "RangeIndex: 111615 entries, 0 to 111614\n",
      "Data columns (total 17 columns):\n",
      " #   Column               Non-Null Count   Dtype         \n",
      "---  ------               --------------   -----         \n",
      " 0   ID                   111615 non-null  int64         \n",
      " 1   State                101086 non-null  object        \n",
      " 2   Age                  111614 non-null  float64       \n",
      " 3   Gender               111615 non-null  object        \n",
      " 4   Citizenship          111615 non-null  object        \n",
      " 5   Ethnicity            111615 non-null  object        \n",
      " 6   Residency            111615 non-null  object        \n",
      " 7   Admit Term           111615 non-null  object        \n",
      " 8   College              111615 non-null  object        \n",
      " 9   Degree / Non-Degree  111615 non-null  object        \n",
      " 10  Application Center   111615 non-null  object        \n",
      " 11  Admit Type           111615 non-null  object        \n",
      " 12  Status               111615 non-null  object        \n",
      " 13  Application Date     111615 non-null  datetime64[ns]\n",
      " 14  Admit Status         111615 non-null  object        \n",
      " 15  Enrolled Status      111615 non-null  object        \n",
      " 16  Withdrew?            111615 non-null  object        \n",
      "dtypes: datetime64[ns](1), float64(1), int64(1), object(14)\n",
      "memory usage: 14.5+ MB\n"
     ]
    }
   ],
   "source": [
    "# Verify data types in file\n",
    "stdnt_data.info()"
   ]
  },
  {
   "cell_type": "markdown",
   "metadata": {},
   "source": [
    "> Looking at the counts we can see that there are some null values in the 'State' and 'Age' columns."
   ]
  },
  {
   "cell_type": "code",
   "execution_count": 4,
   "metadata": {},
   "outputs": [],
   "source": [
    "# Fill cells with null values \n",
    "stdnt_data = stdnt_data.fillna({'State':'No State'})"
   ]
  },
  {
   "cell_type": "code",
   "execution_count": 5,
   "metadata": {},
   "outputs": [
    {
     "data": {
      "text/plain": [
       "20.38497858691562"
      ]
     },
     "execution_count": 5,
     "metadata": {},
     "output_type": "execute_result"
    }
   ],
   "source": [
    "# Find mean age to fill null value(s)\n",
    "stdnt_data['Age'].mean()"
   ]
  },
  {
   "cell_type": "code",
   "execution_count": 6,
   "metadata": {},
   "outputs": [],
   "source": [
    "# Replace null values with mean age (rounded)\n",
    "stdnt_data = stdnt_data.fillna({'Age':20})"
   ]
  },
  {
   "cell_type": "code",
   "execution_count": 7,
   "metadata": {},
   "outputs": [
    {
     "data": {
      "text/plain": [
       "ID                     0\n",
       "State                  0\n",
       "Age                    0\n",
       "Gender                 0\n",
       "Citizenship            0\n",
       "Ethnicity              0\n",
       "Residency              0\n",
       "Admit Term             0\n",
       "College                0\n",
       "Degree / Non-Degree    0\n",
       "Application Center     0\n",
       "Admit Type             0\n",
       "Status                 0\n",
       "Application Date       0\n",
       "Admit Status           0\n",
       "Enrolled Status        0\n",
       "Withdrew?              0\n",
       "dtype: int64"
      ]
     },
     "execution_count": 7,
     "metadata": {},
     "output_type": "execute_result"
    }
   ],
   "source": [
    "#Verify no remaining null values\n",
    "stdnt_data.isnull().sum()"
   ]
  },
  {
   "cell_type": "code",
   "execution_count": 8,
   "metadata": {},
   "outputs": [
    {
     "name": "stdout",
     "output_type": "stream",
     "text": [
      "<class 'pandas.core.frame.DataFrame'>\n",
      "RangeIndex: 111615 entries, 0 to 111614\n",
      "Data columns (total 17 columns):\n",
      " #   Column               Non-Null Count   Dtype         \n",
      "---  ------               --------------   -----         \n",
      " 0   ID                   111615 non-null  int64         \n",
      " 1   State                111615 non-null  object        \n",
      " 2   Age                  111615 non-null  int64         \n",
      " 3   Gender               111615 non-null  object        \n",
      " 4   Citizenship          111615 non-null  object        \n",
      " 5   Ethnicity            111615 non-null  object        \n",
      " 6   Residency            111615 non-null  object        \n",
      " 7   Admit Term           111615 non-null  object        \n",
      " 8   College              111615 non-null  object        \n",
      " 9   Degree / Non-Degree  111615 non-null  object        \n",
      " 10  Application Center   111615 non-null  object        \n",
      " 11  Admit Type           111615 non-null  object        \n",
      " 12  Status               111615 non-null  object        \n",
      " 13  Application Date     111615 non-null  datetime64[ns]\n",
      " 14  Admit Status         111615 non-null  object        \n",
      " 15  Enrolled Status      111615 non-null  object        \n",
      " 16  Withdrew?            111615 non-null  object        \n",
      "dtypes: datetime64[ns](1), int64(2), object(14)\n",
      "memory usage: 14.5+ MB\n"
     ]
    }
   ],
   "source": [
    "# Change data type of age from float to int; this removes the decimal\n",
    "stdnt_data['Age'] = stdnt_data['Age'].astype('int64')\n",
    "stdnt_data.info()"
   ]
  },
  {
   "cell_type": "code",
   "execution_count": 9,
   "metadata": {},
   "outputs": [
    {
     "data": {
      "text/html": [
       "<div>\n",
       "<style scoped>\n",
       "    .dataframe tbody tr th:only-of-type {\n",
       "        vertical-align: middle;\n",
       "    }\n",
       "\n",
       "    .dataframe tbody tr th {\n",
       "        vertical-align: top;\n",
       "    }\n",
       "\n",
       "    .dataframe thead th {\n",
       "        text-align: right;\n",
       "    }\n",
       "</style>\n",
       "<table border=\"1\" class=\"dataframe\">\n",
       "  <thead>\n",
       "    <tr style=\"text-align: right;\">\n",
       "      <th></th>\n",
       "      <th>ID</th>\n",
       "      <th>State</th>\n",
       "      <th>Age</th>\n",
       "      <th>Gender</th>\n",
       "      <th>Citizenship</th>\n",
       "      <th>Ethnicity</th>\n",
       "      <th>Residency</th>\n",
       "      <th>Admit Term</th>\n",
       "      <th>College</th>\n",
       "      <th>Degree / Non-Degree</th>\n",
       "      <th>Application Center</th>\n",
       "      <th>Admit Type</th>\n",
       "      <th>Status</th>\n",
       "      <th>Application Date</th>\n",
       "      <th>Admit Status</th>\n",
       "      <th>Enrolled Status</th>\n",
       "      <th>Withdrew?</th>\n",
       "    </tr>\n",
       "  </thead>\n",
       "  <tbody>\n",
       "    <tr>\n",
       "      <th>0</th>\n",
       "      <td>132441</td>\n",
       "      <td>KS</td>\n",
       "      <td>70</td>\n",
       "      <td>M</td>\n",
       "      <td>US</td>\n",
       "      <td>African American</td>\n",
       "      <td>IS</td>\n",
       "      <td>Fall 2019</td>\n",
       "      <td>Health &amp; Human Sciences</td>\n",
       "      <td>Degree</td>\n",
       "      <td>Global Campus</td>\n",
       "      <td>Online</td>\n",
       "      <td>Cancelled</td>\n",
       "      <td>2019-05-16</td>\n",
       "      <td>Admitted</td>\n",
       "      <td>Not Enrolled</td>\n",
       "      <td>N</td>\n",
       "    </tr>\n",
       "  </tbody>\n",
       "</table>\n",
       "</div>"
      ],
      "text/plain": [
       "       ID State  Age Gender Citizenship         Ethnicity Residency  \\\n",
       "0  132441    KS   70      M          US  African American        IS   \n",
       "\n",
       "  Admit Term                  College Degree / Non-Degree Application Center  \\\n",
       "0  Fall 2019  Health & Human Sciences              Degree      Global Campus   \n",
       "\n",
       "  Admit Type     Status Application Date Admit Status Enrolled Status  \\\n",
       "0     Online  Cancelled       2019-05-16     Admitted    Not Enrolled   \n",
       "\n",
       "  Withdrew?  \n",
       "0         N  "
      ]
     },
     "execution_count": 9,
     "metadata": {},
     "output_type": "execute_result"
    }
   ],
   "source": [
    "stdnt_data.head(1)"
   ]
  },
  {
   "cell_type": "code",
   "execution_count": 10,
   "metadata": {},
   "outputs": [
    {
     "data": {
      "text/plain": [
       "count    111615.000000\n",
       "mean         20.384975\n",
       "std           5.276311\n",
       "min          13.000000\n",
       "25%          18.000000\n",
       "50%          18.000000\n",
       "75%          20.000000\n",
       "max          80.000000\n",
       "Name: Age, dtype: float64"
      ]
     },
     "execution_count": 10,
     "metadata": {},
     "output_type": "execute_result"
    }
   ],
   "source": [
    "# Basic statistics of numeric column 'Age'\n",
    "stdnt_data['Age'].describe()"
   ]
  },
  {
   "cell_type": "markdown",
   "metadata": {},
   "source": [
    "> This basic statistical overview of age, shows us that we have a minimum age value of 13. While we may find during later analysis that this inaccurate, at this time, since we have high school admit types, we will assume it is in fact an accurate depiction of age for an applicant. Therefore we will keep this and not make any changes at this time. "
   ]
  },
  {
   "cell_type": "code",
   "execution_count": 11,
   "metadata": {},
   "outputs": [
    {
     "data": {
      "text/plain": [
       "<matplotlib.axes._subplots.AxesSubplot at 0x23b28d69648>"
      ]
     },
     "execution_count": 11,
     "metadata": {},
     "output_type": "execute_result"
    },
    {
     "data": {
      "image/png": "[encoded data removed]",
      "text/plain": [
       "<Figure size 432x432 with 1 Axes>"
      ]
     },
     "metadata": {
      "needs_background": "light"
     },
     "output_type": "display_data"
    }
   ],
   "source": [
    "# Histogram of age distribution\n",
    "stdnt_data['Age'].hist(figsize=(6,6))"
   ]
  },
  {
   "cell_type": "markdown",
   "metadata": {},
   "source": [
    "> This visual shows that majority of students are around the age of 20 which agrees with our mean age of 20.38 years."
   ]
  },
  {
   "cell_type": "markdown",
   "metadata": {},
   "source": [
    "### 3. Verify Data Accuracy and Integrity\n",
    "> Use of Group By to allow for quick overview of counts"
   ]
  },
  {
   "cell_type": "code",
   "execution_count": 12,
   "metadata": {},
   "outputs": [
    {
     "data": {
      "text/plain": [
       "Admit Status  Enrolled Status\n",
       "Admitted      Enrolled           51151\n",
       "              Not Enrolled       55255\n",
       "Not Admitted  Not Enrolled        5209\n",
       "dtype: int64"
      ]
     },
     "execution_count": 12,
     "metadata": {},
     "output_type": "execute_result"
    }
   ],
   "source": [
    "# Grouping by admit status and enrolled status allows for counts and checking for inaccuracies;\n",
    "# Students who are not admitted should not show as 'Enrolled'; \n",
    "Adm_Enrolled = stdnt_data.groupby(['Admit Status', 'Enrolled Status']).size()\n",
    "Adm_Enrolled"
   ]
  },
  {
   "cell_type": "markdown",
   "metadata": {},
   "source": [
    "> Results show that we have indeed no enrollments for non-admits"
   ]
  },
  {
   "cell_type": "code",
   "execution_count": 13,
   "metadata": {},
   "outputs": [
    {
     "data": {
      "text/plain": [
       "Admit Status  Withdrew?\n",
       "Admitted      N            105536\n",
       "              Y               870\n",
       "Not Admitted  N              5209\n",
       "dtype: int64"
      ]
     },
     "execution_count": 13,
     "metadata": {},
     "output_type": "execute_result"
    }
   ],
   "source": [
    "# Ensuring no withdrawals for non-admits\n",
    "Adm_Withdr = stdnt_data.groupby(['Admit Status', 'Withdrew?']).size()\n",
    "Adm_Withdr"
   ]
  },
  {
   "cell_type": "markdown",
   "metadata": {},
   "source": [
    "> Results show that we have no withdrawals for non-admits and a total of 870 withdrawals for previously admitted students"
   ]
  },
  {
   "cell_type": "markdown",
   "metadata": {},
   "source": [
    "### We now have a dataset that no longer contains any null values. The validity of the data has been verified by looking at groupings and counts and we can proceed with further analysis. "
   ]
  },
  {
   "cell_type": "markdown",
   "metadata": {},
   "source": [
    "### 4. Exploratory Data Analysis"
   ]
  },
  {
   "cell_type": "code",
   "execution_count": 14,
   "metadata": {},
   "outputs": [
    {
     "data": {
      "text/plain": [
       "Status\n",
       "Active                  61082\n",
       "Admitted                26322\n",
       "Application Deferred      552\n",
       "Applied                  2646\n",
       "Cancelled               20123\n",
       "Denied                    819\n",
       "Discontinued               71\n",
       "dtype: int64"
      ]
     },
     "execution_count": 14,
     "metadata": {},
     "output_type": "execute_result"
    }
   ],
   "source": [
    "# Group by Status\n",
    "status = stdnt_data.groupby('Status').size()\n",
    "status"
   ]
  },
  {
   "cell_type": "code",
   "execution_count": 15,
   "metadata": {},
   "outputs": [
    {
     "data": {
      "text/plain": [
       "Admit Type\n",
       "Freshman         67874\n",
       "High School       1665\n",
       "International    10300\n",
       "Online            7127\n",
       "Other               36\n",
       "Readmit           6000\n",
       "Transfer         18613\n",
       "dtype: int64"
      ]
     },
     "execution_count": 15,
     "metadata": {},
     "output_type": "execute_result"
    }
   ],
   "source": [
    "# Group by Admit Type\n",
    "admit_type = stdnt_data.groupby('Admit Type').size()\n",
    "admit_type"
   ]
  },
  {
   "cell_type": "code",
   "execution_count": 16,
   "metadata": {},
   "outputs": [
    {
     "data": {
      "text/plain": [
       "Age\n",
       "13       1\n",
       "14      14\n",
       "15     105\n",
       "16     440\n",
       "17    2639\n",
       "      ... \n",
       "71       1\n",
       "72       2\n",
       "74       2\n",
       "77       1\n",
       "80       1\n",
       "Length: 63, dtype: int64"
      ]
     },
     "execution_count": 16,
     "metadata": {},
     "output_type": "execute_result"
    }
   ],
   "source": [
    "# Group by Age\n",
    "age = stdnt_data.groupby('Age').size()\n",
    "age"
   ]
  },
  {
   "cell_type": "code",
   "execution_count": 17,
   "metadata": {},
   "outputs": [
    {
     "data": {
      "text/plain": [
       "Ethnicity\n",
       "African American              7277\n",
       "Asian                         8709\n",
       "Hawaiian Pacific Islander      162\n",
       "Hispanic                     10558\n",
       "Multi Racial                  4333\n",
       "Native American                550\n",
       "Not Specified                 2517\n",
       "WHITE                            1\n",
       "White                        77508\n",
       "dtype: int64"
      ]
     },
     "execution_count": 17,
     "metadata": {},
     "output_type": "execute_result"
    }
   ],
   "source": [
    "# Group by Ethnicity for preliminary counts\n",
    "eth = stdnt_data.groupby('Ethnicity').size()\n",
    "eth"
   ]
  },
  {
   "cell_type": "code",
   "execution_count": 18,
   "metadata": {},
   "outputs": [
    {
     "data": {
      "text/plain": [
       "College\n",
       "Agriculture                14085\n",
       "Architecture                2740\n",
       "Arts & Sciences            38949\n",
       "Business Administration    14601\n",
       "Education                   5632\n",
       "Engineering                18290\n",
       "Health & Human Sciences    12005\n",
       "Technology & Aviation       5313\n",
       "dtype: int64"
      ]
     },
     "execution_count": 18,
     "metadata": {},
     "output_type": "execute_result"
    }
   ],
   "source": [
    "# Group by College / Program\n",
    "college = stdnt_data.groupby('College').size()\n",
    "college"
   ]
  },
  {
   "cell_type": "code",
   "execution_count": 19,
   "metadata": {},
   "outputs": [
    {
     "data": {
      "text/plain": [
       "Admit Term\n",
       "Fall 2012      12556\n",
       "Fall 2013      12714\n",
       "Fall 2014      12671\n",
       "Fall 2015      11680\n",
       "Fall 2016      11382\n",
       "Fall 2017      10368\n",
       "Fall 2018      12233\n",
       "Fall 2019      12037\n",
       "Spring 2012      648\n",
       "Spring 2013     2554\n",
       "Spring 2014     2275\n",
       "Spring 2015     2088\n",
       "Spring 2016     1997\n",
       "Spring 2017     1888\n",
       "Spring 2018     2442\n",
       "Spring 2019     2082\n",
       "dtype: int64"
      ]
     },
     "execution_count": 19,
     "metadata": {},
     "output_type": "execute_result"
    }
   ],
   "source": [
    "# Group by Admit Term\n",
    "term = stdnt_data.groupby('Admit Term').size()\n",
    "term"
   ]
  },
  {
   "cell_type": "code",
   "execution_count": 20,
   "metadata": {},
   "outputs": [
    {
     "data": {
      "text/html": [
       "<div>\n",
       "<style scoped>\n",
       "    .dataframe tbody tr th:only-of-type {\n",
       "        vertical-align: middle;\n",
       "    }\n",
       "\n",
       "    .dataframe tbody tr th {\n",
       "        vertical-align: top;\n",
       "    }\n",
       "\n",
       "    .dataframe thead th {\n",
       "        text-align: right;\n",
       "    }\n",
       "</style>\n",
       "<table border=\"1\" class=\"dataframe\">\n",
       "  <thead>\n",
       "    <tr style=\"text-align: right;\">\n",
       "      <th></th>\n",
       "      <th>ID</th>\n",
       "      <th>State</th>\n",
       "      <th>Age</th>\n",
       "      <th>Gender</th>\n",
       "      <th>Citizenship</th>\n",
       "      <th>Ethnicity</th>\n",
       "      <th>Residency</th>\n",
       "      <th>Admit Term</th>\n",
       "      <th>College</th>\n",
       "      <th>Degree / Non-Degree</th>\n",
       "      <th>Application Center</th>\n",
       "      <th>Admit Type</th>\n",
       "      <th>Status</th>\n",
       "      <th>Application Date</th>\n",
       "      <th>Admit Status</th>\n",
       "      <th>Enrolled Status</th>\n",
       "      <th>Withdrew?</th>\n",
       "    </tr>\n",
       "  </thead>\n",
       "  <tbody>\n",
       "    <tr>\n",
       "      <th>7</th>\n",
       "      <td>919451</td>\n",
       "      <td>MO</td>\n",
       "      <td>60</td>\n",
       "      <td>F</td>\n",
       "      <td>US</td>\n",
       "      <td>African American</td>\n",
       "      <td>OS</td>\n",
       "      <td>Fall 2019</td>\n",
       "      <td>Business Administration</td>\n",
       "      <td>Degree</td>\n",
       "      <td>Global Campus</td>\n",
       "      <td>Online</td>\n",
       "      <td>Cancelled</td>\n",
       "      <td>2019-06-08</td>\n",
       "      <td>Not Admitted</td>\n",
       "      <td>Not Enrolled</td>\n",
       "      <td>N</td>\n",
       "    </tr>\n",
       "    <tr>\n",
       "      <th>8</th>\n",
       "      <td>172358</td>\n",
       "      <td>TX</td>\n",
       "      <td>60</td>\n",
       "      <td>F</td>\n",
       "      <td>US</td>\n",
       "      <td>White</td>\n",
       "      <td>OS</td>\n",
       "      <td>Fall 2019</td>\n",
       "      <td>Agriculture</td>\n",
       "      <td>Degree</td>\n",
       "      <td>Global Campus</td>\n",
       "      <td>Online</td>\n",
       "      <td>Active</td>\n",
       "      <td>2019-04-16</td>\n",
       "      <td>Admitted</td>\n",
       "      <td>Not Enrolled</td>\n",
       "      <td>N</td>\n",
       "    </tr>\n",
       "    <tr>\n",
       "      <th>9</th>\n",
       "      <td>135435</td>\n",
       "      <td>KS</td>\n",
       "      <td>59</td>\n",
       "      <td>M</td>\n",
       "      <td>US</td>\n",
       "      <td>African American</td>\n",
       "      <td>IS</td>\n",
       "      <td>Fall 2019</td>\n",
       "      <td>Health &amp; Human Sciences</td>\n",
       "      <td>Degree</td>\n",
       "      <td>Manhattan Main Campus</td>\n",
       "      <td>Readmit</td>\n",
       "      <td>Active</td>\n",
       "      <td>2018-09-18</td>\n",
       "      <td>Admitted</td>\n",
       "      <td>Not Enrolled</td>\n",
       "      <td>N</td>\n",
       "    </tr>\n",
       "    <tr>\n",
       "      <th>10</th>\n",
       "      <td>922350</td>\n",
       "      <td>KS</td>\n",
       "      <td>58</td>\n",
       "      <td>F</td>\n",
       "      <td>US</td>\n",
       "      <td>White</td>\n",
       "      <td>IS</td>\n",
       "      <td>Fall 2019</td>\n",
       "      <td>Arts &amp; Sciences</td>\n",
       "      <td>Degree</td>\n",
       "      <td>Manhattan Main Campus</td>\n",
       "      <td>Transfer</td>\n",
       "      <td>Applied</td>\n",
       "      <td>2019-08-09</td>\n",
       "      <td>Not Admitted</td>\n",
       "      <td>Not Enrolled</td>\n",
       "      <td>N</td>\n",
       "    </tr>\n",
       "    <tr>\n",
       "      <th>11</th>\n",
       "      <td>916358</td>\n",
       "      <td>TX</td>\n",
       "      <td>58</td>\n",
       "      <td>M</td>\n",
       "      <td>US</td>\n",
       "      <td>White</td>\n",
       "      <td>OS</td>\n",
       "      <td>Fall 2019</td>\n",
       "      <td>Health &amp; Human Sciences</td>\n",
       "      <td>Degree</td>\n",
       "      <td>Global Campus</td>\n",
       "      <td>Online</td>\n",
       "      <td>Cancelled</td>\n",
       "      <td>2019-04-30</td>\n",
       "      <td>Not Admitted</td>\n",
       "      <td>Not Enrolled</td>\n",
       "      <td>N</td>\n",
       "    </tr>\n",
       "  </tbody>\n",
       "</table>\n",
       "</div>"
      ],
      "text/plain": [
       "        ID State  Age Gender Citizenship         Ethnicity Residency  \\\n",
       "7   919451    MO   60      F          US  African American        OS   \n",
       "8   172358    TX   60      F          US             White        OS   \n",
       "9   135435    KS   59      M          US  African American        IS   \n",
       "10  922350    KS   58      F          US             White        IS   \n",
       "11  916358    TX   58      M          US             White        OS   \n",
       "\n",
       "   Admit Term                  College Degree / Non-Degree  \\\n",
       "7   Fall 2019  Business Administration              Degree   \n",
       "8   Fall 2019              Agriculture              Degree   \n",
       "9   Fall 2019  Health & Human Sciences              Degree   \n",
       "10  Fall 2019          Arts & Sciences              Degree   \n",
       "11  Fall 2019  Health & Human Sciences              Degree   \n",
       "\n",
       "       Application Center Admit Type     Status Application Date  \\\n",
       "7           Global Campus     Online  Cancelled       2019-06-08   \n",
       "8           Global Campus     Online     Active       2019-04-16   \n",
       "9   Manhattan Main Campus    Readmit     Active       2018-09-18   \n",
       "10  Manhattan Main Campus   Transfer    Applied       2019-08-09   \n",
       "11          Global Campus     Online  Cancelled       2019-04-30   \n",
       "\n",
       "    Admit Status Enrolled Status Withdrew?  \n",
       "7   Not Admitted    Not Enrolled         N  \n",
       "8       Admitted    Not Enrolled         N  \n",
       "9       Admitted    Not Enrolled         N  \n",
       "10  Not Admitted    Not Enrolled         N  \n",
       "11  Not Admitted    Not Enrolled         N  "
      ]
     },
     "execution_count": 20,
     "metadata": {},
     "output_type": "execute_result"
    }
   ],
   "source": [
    "# Dropping values that are insignificant in further analysis\n",
    "stdnt_data = stdnt_data.drop(stdnt_data[stdnt_data['Admit Type'] == \"High School\"].index)\n",
    "stdnt_data = stdnt_data.drop(stdnt_data[stdnt_data['Admit Type'] == \"Other\"].index)\n",
    "stdnt_data = stdnt_data.drop(stdnt_data[stdnt_data['Age'] < 17].index)\n",
    "stdnt_data = stdnt_data.drop(stdnt_data[stdnt_data['Age'] > 60].index)\n",
    "stdnt_data = stdnt_data.drop(stdnt_data[stdnt_data['Ethnicity']== \"WHITE\"].index)\n",
    "stdnt_data = stdnt_data.drop(stdnt_data[stdnt_data['Ethnicity']== \"Not Specified\"].index)\n",
    "stdnt_data.head()"
   ]
  },
  {
   "cell_type": "code",
   "execution_count": 22,
   "metadata": {},
   "outputs": [],
   "source": [
    "# Replacing categorical values with numerical values (adding new column for College: College2)\n",
    "stdnt_data['Admit Status'] = stdnt_data['Admit Status'].map({'Admitted': 1, 'Not Admitted': 0})\n",
    "stdnt_data['Enrolled Status'] = stdnt_data['Enrolled Status'].map({'Enrolled': 1, 'Not Enrolled': 0})\n",
    "stdnt_data['Withdrew?'] = stdnt_data['Withdrew?'].map({'Y': 1, 'N': 0})\n",
    "stdnt_data['Status'] = stdnt_data['Status'].map({'Active': 1, 'Admitted': 2, 'Application Deferred': 3, 'Applied': 4, 'Cancelled': 5, 'Denied': 6, 'Discontinued':7})\n",
    "stdnt_data['Residency'] = stdnt_data['Residency'].map({'IS': 1, 'OS':2})\n",
    "stdnt_data['Admit Type'] = stdnt_data['Admit Type'].map({'Freshman': 1, 'International': 2, 'Online': 3, 'Transfer': 4, 'Readmit': 5})\n",
    "stdnt_data['Gender'] = stdnt_data['Gender'].map({'F': 1, 'M': 2})\n",
    "stdnt_data['Degree / Non-Degree'] = stdnt_data['Degree / Non-Degree'].map({'Degree': 1, 'Non-Degree': 2})\n",
    "stdnt_data['Ethnicity'] = stdnt_data['Ethnicity'].map({'Native American': 1, 'Hawaiian Pacific Islander': 2, 'Multi Racial': 3, 'African American': 4, 'Asian': 5, 'Hispanic': 6, 'White': 7})\n",
    "stdnt_data['College2'] = stdnt_data['College'].map({'Architecture': 1, 'Technology & Aviation': 2, 'Education': 3, 'Health & Human Sciences': 4, 'Agriculture': 5, 'Business Administration': 6, 'Engineering': 7, 'Arts & Sciences': 8})\n",
    "stdnt_data['Admit Term'] = stdnt_data['Admit Term'].map({'Fall 2012': 2012, 'Spring 2012': 2012, 'Fall 2013': 2013, 'Spring 2013': 2013, 'Fall 2014': 2014, 'Spring 2014': 2014, 'Fall 2015': 2015, 'Spring 2015': 2015, 'Fall 2016': 2016, 'Spring 2016': 2016, 'Fall 2017': 2017, 'Spring 2017': 2017, 'Fall 2018': 2018, 'Spring 2018': 2018, 'Fall 2019': 2019, 'Spring 2019': 2019})"
   ]
  },
  {
   "cell_type": "markdown",
   "metadata": {},
   "source": [
    "##### Categorical - Numerical Equivalents:\n",
    "Admit Status:\n",
    "* Admitted - 1\n",
    "* Not Admitted - 0\n",
    "\n",
    "Enrolled Status:\n",
    "* Enrolled - 1\n",
    "* Not Enrolled - 2\n",
    "\n",
    "Withdrew:\n",
    "* Yes - 1\n",
    "* No - 0\n",
    "\n",
    "Status:\n",
    "* Active - 1\n",
    "* Admitted - 2\n",
    "* Application Deferred - 3\n",
    "* Applied - 4\n",
    "* Cancelled - 5\n",
    "* Denied - 6\n",
    "* Discontinued - 7\n",
    "\n",
    "Residency:\n",
    "* IS - 1\n",
    "* OS - 2\n",
    "\n",
    "Admit Type:\n",
    "* Freshman - 1\n",
    "* International - 2\n",
    "* Online - 3\n",
    "* Transfer - 4\n",
    "* Readmit - 5\n",
    "\n",
    "Gender:\n",
    "* Female - 1\n",
    "* Male - 2\n",
    "\n",
    "Ethnicity (by ascending counts):\n",
    "* Native American - 1\n",
    "* Hawaiian Pacific Islander - 2\n",
    "* Multi Racial - 3\n",
    "* African American - 4\n",
    "* Asian - 5 \n",
    "* Hispanic - 6\n",
    "* White - 7\n",
    "\n",
    "College:\n",
    "* Architecture - 1\n",
    "* Technology & Aviation - 2\n",
    "* Education - 3\n",
    "* Health & Human Sciences - 4\n",
    "* Agriculture - 5\n",
    "* Business Administration - 6\n",
    "* Engineering - 7\n",
    "* Arts & Sciences - 8"
   ]
  },
  {
   "cell_type": "code",
   "execution_count": 23,
   "metadata": {},
   "outputs": [
    {
     "data": {
      "text/html": [
       "<div>\n",
       "<style scoped>\n",
       "    .dataframe tbody tr th:only-of-type {\n",
       "        vertical-align: middle;\n",
       "    }\n",
       "\n",
       "    .dataframe tbody tr th {\n",
       "        vertical-align: top;\n",
       "    }\n",
       "\n",
       "    .dataframe thead th {\n",
       "        text-align: right;\n",
       "    }\n",
       "</style>\n",
       "<table border=\"1\" class=\"dataframe\">\n",
       "  <thead>\n",
       "    <tr style=\"text-align: right;\">\n",
       "      <th></th>\n",
       "      <th>ID</th>\n",
       "      <th>State</th>\n",
       "      <th>Age</th>\n",
       "      <th>Gender</th>\n",
       "      <th>Citizenship</th>\n",
       "      <th>Ethnicity</th>\n",
       "      <th>Residency</th>\n",
       "      <th>Admit Term</th>\n",
       "      <th>College</th>\n",
       "      <th>Degree / Non-Degree</th>\n",
       "      <th>Application Center</th>\n",
       "      <th>Admit Type</th>\n",
       "      <th>Status</th>\n",
       "      <th>Application Date</th>\n",
       "      <th>Admit Status</th>\n",
       "      <th>Enrolled Status</th>\n",
       "      <th>Withdrew?</th>\n",
       "      <th>College2</th>\n",
       "    </tr>\n",
       "  </thead>\n",
       "  <tbody>\n",
       "    <tr>\n",
       "      <th>7</th>\n",
       "      <td>919451</td>\n",
       "      <td>MO</td>\n",
       "      <td>60</td>\n",
       "      <td>1</td>\n",
       "      <td>US</td>\n",
       "      <td>4</td>\n",
       "      <td>2</td>\n",
       "      <td>2019</td>\n",
       "      <td>Business Administration</td>\n",
       "      <td>1</td>\n",
       "      <td>Global Campus</td>\n",
       "      <td>3</td>\n",
       "      <td>5</td>\n",
       "      <td>2019-06-08</td>\n",
       "      <td>0</td>\n",
       "      <td>0</td>\n",
       "      <td>0</td>\n",
       "      <td>6</td>\n",
       "    </tr>\n",
       "    <tr>\n",
       "      <th>8</th>\n",
       "      <td>172358</td>\n",
       "      <td>TX</td>\n",
       "      <td>60</td>\n",
       "      <td>1</td>\n",
       "      <td>US</td>\n",
       "      <td>7</td>\n",
       "      <td>2</td>\n",
       "      <td>2019</td>\n",
       "      <td>Agriculture</td>\n",
       "      <td>1</td>\n",
       "      <td>Global Campus</td>\n",
       "      <td>3</td>\n",
       "      <td>1</td>\n",
       "      <td>2019-04-16</td>\n",
       "      <td>1</td>\n",
       "      <td>0</td>\n",
       "      <td>0</td>\n",
       "      <td>5</td>\n",
       "    </tr>\n",
       "    <tr>\n",
       "      <th>9</th>\n",
       "      <td>135435</td>\n",
       "      <td>KS</td>\n",
       "      <td>59</td>\n",
       "      <td>2</td>\n",
       "      <td>US</td>\n",
       "      <td>4</td>\n",
       "      <td>1</td>\n",
       "      <td>2019</td>\n",
       "      <td>Health &amp; Human Sciences</td>\n",
       "      <td>1</td>\n",
       "      <td>Manhattan Main Campus</td>\n",
       "      <td>5</td>\n",
       "      <td>1</td>\n",
       "      <td>2018-09-18</td>\n",
       "      <td>1</td>\n",
       "      <td>0</td>\n",
       "      <td>0</td>\n",
       "      <td>4</td>\n",
       "    </tr>\n",
       "    <tr>\n",
       "      <th>10</th>\n",
       "      <td>922350</td>\n",
       "      <td>KS</td>\n",
       "      <td>58</td>\n",
       "      <td>1</td>\n",
       "      <td>US</td>\n",
       "      <td>7</td>\n",
       "      <td>1</td>\n",
       "      <td>2019</td>\n",
       "      <td>Arts &amp; Sciences</td>\n",
       "      <td>1</td>\n",
       "      <td>Manhattan Main Campus</td>\n",
       "      <td>4</td>\n",
       "      <td>4</td>\n",
       "      <td>2019-08-09</td>\n",
       "      <td>0</td>\n",
       "      <td>0</td>\n",
       "      <td>0</td>\n",
       "      <td>8</td>\n",
       "    </tr>\n",
       "    <tr>\n",
       "      <th>11</th>\n",
       "      <td>916358</td>\n",
       "      <td>TX</td>\n",
       "      <td>58</td>\n",
       "      <td>2</td>\n",
       "      <td>US</td>\n",
       "      <td>7</td>\n",
       "      <td>2</td>\n",
       "      <td>2019</td>\n",
       "      <td>Health &amp; Human Sciences</td>\n",
       "      <td>1</td>\n",
       "      <td>Global Campus</td>\n",
       "      <td>3</td>\n",
       "      <td>5</td>\n",
       "      <td>2019-04-30</td>\n",
       "      <td>0</td>\n",
       "      <td>0</td>\n",
       "      <td>0</td>\n",
       "      <td>4</td>\n",
       "    </tr>\n",
       "  </tbody>\n",
       "</table>\n",
       "</div>"
      ],
      "text/plain": [
       "        ID State  Age  Gender Citizenship  Ethnicity  Residency  Admit Term  \\\n",
       "7   919451    MO   60       1          US          4          2        2019   \n",
       "8   172358    TX   60       1          US          7          2        2019   \n",
       "9   135435    KS   59       2          US          4          1        2019   \n",
       "10  922350    KS   58       1          US          7          1        2019   \n",
       "11  916358    TX   58       2          US          7          2        2019   \n",
       "\n",
       "                    College  Degree / Non-Degree     Application Center  \\\n",
       "7   Business Administration                    1          Global Campus   \n",
       "8               Agriculture                    1          Global Campus   \n",
       "9   Health & Human Sciences                    1  Manhattan Main Campus   \n",
       "10          Arts & Sciences                    1  Manhattan Main Campus   \n",
       "11  Health & Human Sciences                    1          Global Campus   \n",
       "\n",
       "    Admit Type  Status Application Date  Admit Status  Enrolled Status  \\\n",
       "7            3       5       2019-06-08             0                0   \n",
       "8            3       1       2019-04-16             1                0   \n",
       "9            5       1       2018-09-18             1                0   \n",
       "10           4       4       2019-08-09             0                0   \n",
       "11           3       5       2019-04-30             0                0   \n",
       "\n",
       "    Withdrew?  College2  \n",
       "7           0         6  \n",
       "8           0         5  \n",
       "9           0         4  \n",
       "10          0         8  \n",
       "11          0         4  "
      ]
     },
     "execution_count": 23,
     "metadata": {},
     "output_type": "execute_result"
    }
   ],
   "source": [
    "# Verifying replacement of categorical values\n",
    "stdnt_data.head()"
   ]
  },
  {
   "cell_type": "code",
   "execution_count": 24,
   "metadata": {},
   "outputs": [
    {
     "name": "stdout",
     "output_type": "stream",
     "text": [
      "<class 'pandas.core.frame.DataFrame'>\n",
      "Int64Index: 107319 entries, 7 to 111612\n",
      "Data columns (total 18 columns):\n",
      " #   Column               Non-Null Count   Dtype         \n",
      "---  ------               --------------   -----         \n",
      " 0   ID                   107319 non-null  int64         \n",
      " 1   State                107319 non-null  object        \n",
      " 2   Age                  107319 non-null  int64         \n",
      " 3   Gender               107319 non-null  int64         \n",
      " 4   Citizenship          107319 non-null  object        \n",
      " 5   Ethnicity            107319 non-null  int64         \n",
      " 6   Residency            107319 non-null  int64         \n",
      " 7   Admit Term           107319 non-null  int64         \n",
      " 8   College              107319 non-null  object        \n",
      " 9   Degree / Non-Degree  107319 non-null  int64         \n",
      " 10  Application Center   107319 non-null  object        \n",
      " 11  Admit Type           107319 non-null  int64         \n",
      " 12  Status               107319 non-null  int64         \n",
      " 13  Application Date     107319 non-null  datetime64[ns]\n",
      " 14  Admit Status         107319 non-null  int64         \n",
      " 15  Enrolled Status      107319 non-null  int64         \n",
      " 16  Withdrew?            107319 non-null  int64         \n",
      " 17  College2             107319 non-null  int64         \n",
      "dtypes: datetime64[ns](1), int64(13), object(4)\n",
      "memory usage: 15.6+ MB\n"
     ]
    }
   ],
   "source": [
    "stdnt_data.info()"
   ]
  },
  {
   "cell_type": "markdown",
   "metadata": {},
   "source": [
    "### 4.a) Correlation Analysis"
   ]
  },
  {
   "cell_type": "code",
   "execution_count": 25,
   "metadata": {},
   "outputs": [
    {
     "data": {
      "text/html": [
       "<div>\n",
       "<style scoped>\n",
       "    .dataframe tbody tr th:only-of-type {\n",
       "        vertical-align: middle;\n",
       "    }\n",
       "\n",
       "    .dataframe tbody tr th {\n",
       "        vertical-align: top;\n",
       "    }\n",
       "\n",
       "    .dataframe thead th {\n",
       "        text-align: right;\n",
       "    }\n",
       "</style>\n",
       "<table border=\"1\" class=\"dataframe\">\n",
       "  <thead>\n",
       "    <tr style=\"text-align: right;\">\n",
       "      <th></th>\n",
       "      <th>State</th>\n",
       "      <th>Age</th>\n",
       "      <th>Gender</th>\n",
       "      <th>Citizenship</th>\n",
       "      <th>Ethnicity</th>\n",
       "      <th>Residency</th>\n",
       "      <th>Admit Term</th>\n",
       "      <th>College</th>\n",
       "      <th>Degree / Non-Degree</th>\n",
       "      <th>Application Center</th>\n",
       "      <th>Admit Type</th>\n",
       "      <th>Status</th>\n",
       "      <th>Application Date</th>\n",
       "      <th>Admit Status</th>\n",
       "      <th>Enrolled Status</th>\n",
       "      <th>Withdrew?</th>\n",
       "      <th>College2</th>\n",
       "    </tr>\n",
       "  </thead>\n",
       "  <tbody>\n",
       "    <tr>\n",
       "      <th>0</th>\n",
       "      <td>MO</td>\n",
       "      <td>60</td>\n",
       "      <td>1</td>\n",
       "      <td>US</td>\n",
       "      <td>4</td>\n",
       "      <td>2</td>\n",
       "      <td>2019</td>\n",
       "      <td>Business Administration</td>\n",
       "      <td>1</td>\n",
       "      <td>Global Campus</td>\n",
       "      <td>3</td>\n",
       "      <td>5</td>\n",
       "      <td>2019-06-08</td>\n",
       "      <td>0</td>\n",
       "      <td>0</td>\n",
       "      <td>0</td>\n",
       "      <td>6</td>\n",
       "    </tr>\n",
       "    <tr>\n",
       "      <th>1</th>\n",
       "      <td>TX</td>\n",
       "      <td>60</td>\n",
       "      <td>1</td>\n",
       "      <td>US</td>\n",
       "      <td>7</td>\n",
       "      <td>2</td>\n",
       "      <td>2019</td>\n",
       "      <td>Agriculture</td>\n",
       "      <td>1</td>\n",
       "      <td>Global Campus</td>\n",
       "      <td>3</td>\n",
       "      <td>1</td>\n",
       "      <td>2019-04-16</td>\n",
       "      <td>1</td>\n",
       "      <td>0</td>\n",
       "      <td>0</td>\n",
       "      <td>5</td>\n",
       "    </tr>\n",
       "    <tr>\n",
       "      <th>2</th>\n",
       "      <td>KS</td>\n",
       "      <td>59</td>\n",
       "      <td>2</td>\n",
       "      <td>US</td>\n",
       "      <td>4</td>\n",
       "      <td>1</td>\n",
       "      <td>2019</td>\n",
       "      <td>Health &amp; Human Sciences</td>\n",
       "      <td>1</td>\n",
       "      <td>Manhattan Main Campus</td>\n",
       "      <td>5</td>\n",
       "      <td>1</td>\n",
       "      <td>2018-09-18</td>\n",
       "      <td>1</td>\n",
       "      <td>0</td>\n",
       "      <td>0</td>\n",
       "      <td>4</td>\n",
       "    </tr>\n",
       "    <tr>\n",
       "      <th>3</th>\n",
       "      <td>KS</td>\n",
       "      <td>58</td>\n",
       "      <td>1</td>\n",
       "      <td>US</td>\n",
       "      <td>7</td>\n",
       "      <td>1</td>\n",
       "      <td>2019</td>\n",
       "      <td>Arts &amp; Sciences</td>\n",
       "      <td>1</td>\n",
       "      <td>Manhattan Main Campus</td>\n",
       "      <td>4</td>\n",
       "      <td>4</td>\n",
       "      <td>2019-08-09</td>\n",
       "      <td>0</td>\n",
       "      <td>0</td>\n",
       "      <td>0</td>\n",
       "      <td>8</td>\n",
       "    </tr>\n",
       "    <tr>\n",
       "      <th>4</th>\n",
       "      <td>TX</td>\n",
       "      <td>58</td>\n",
       "      <td>2</td>\n",
       "      <td>US</td>\n",
       "      <td>7</td>\n",
       "      <td>2</td>\n",
       "      <td>2019</td>\n",
       "      <td>Health &amp; Human Sciences</td>\n",
       "      <td>1</td>\n",
       "      <td>Global Campus</td>\n",
       "      <td>3</td>\n",
       "      <td>5</td>\n",
       "      <td>2019-04-30</td>\n",
       "      <td>0</td>\n",
       "      <td>0</td>\n",
       "      <td>0</td>\n",
       "      <td>4</td>\n",
       "    </tr>\n",
       "  </tbody>\n",
       "</table>\n",
       "</div>"
      ],
      "text/plain": [
       "  State  Age  Gender Citizenship  Ethnicity  Residency  Admit Term  \\\n",
       "0    MO   60       1          US          4          2        2019   \n",
       "1    TX   60       1          US          7          2        2019   \n",
       "2    KS   59       2          US          4          1        2019   \n",
       "3    KS   58       1          US          7          1        2019   \n",
       "4    TX   58       2          US          7          2        2019   \n",
       "\n",
       "                   College  Degree / Non-Degree     Application Center  \\\n",
       "0  Business Administration                    1          Global Campus   \n",
       "1              Agriculture                    1          Global Campus   \n",
       "2  Health & Human Sciences                    1  Manhattan Main Campus   \n",
       "3          Arts & Sciences                    1  Manhattan Main Campus   \n",
       "4  Health & Human Sciences                    1          Global Campus   \n",
       "\n",
       "   Admit Type  Status Application Date  Admit Status  Enrolled Status  \\\n",
       "0           3       5       2019-06-08             0                0   \n",
       "1           3       1       2019-04-16             1                0   \n",
       "2           5       1       2018-09-18             1                0   \n",
       "3           4       4       2019-08-09             0                0   \n",
       "4           3       5       2019-04-30             0                0   \n",
       "\n",
       "   Withdrew?  College2  \n",
       "0          0         6  \n",
       "1          0         5  \n",
       "2          0         4  \n",
       "3          0         8  \n",
       "4          0         4  "
      ]
     },
     "execution_count": 25,
     "metadata": {},
     "output_type": "execute_result"
    }
   ],
   "source": [
    "# For the purpose of this analysis, will remove ID column and save in new dataframe\n",
    "stdnt_data2 = stdnt_data.drop(['ID'], axis=1).reset_index(drop=True)\n",
    "stdnt_data2.head()"
   ]
  },
  {
   "cell_type": "code",
   "execution_count": 26,
   "metadata": {},
   "outputs": [
    {
     "data": {
      "text/html": [
       "<div>\n",
       "<style scoped>\n",
       "    .dataframe tbody tr th:only-of-type {\n",
       "        vertical-align: middle;\n",
       "    }\n",
       "\n",
       "    .dataframe tbody tr th {\n",
       "        vertical-align: top;\n",
       "    }\n",
       "\n",
       "    .dataframe thead th {\n",
       "        text-align: right;\n",
       "    }\n",
       "</style>\n",
       "<table border=\"1\" class=\"dataframe\">\n",
       "  <thead>\n",
       "    <tr style=\"text-align: right;\">\n",
       "      <th></th>\n",
       "      <th>Age</th>\n",
       "      <th>Gender</th>\n",
       "      <th>Ethnicity</th>\n",
       "      <th>Residency</th>\n",
       "      <th>Admit Term</th>\n",
       "      <th>Degree / Non-Degree</th>\n",
       "      <th>Admit Type</th>\n",
       "      <th>Status</th>\n",
       "      <th>Admit Status</th>\n",
       "      <th>Enrolled Status</th>\n",
       "      <th>Withdrew?</th>\n",
       "      <th>College2</th>\n",
       "    </tr>\n",
       "  </thead>\n",
       "  <tbody>\n",
       "    <tr>\n",
       "      <th>Age</th>\n",
       "      <td>1.000000</td>\n",
       "      <td>0.000018</td>\n",
       "      <td>-0.041263</td>\n",
       "      <td>0.102301</td>\n",
       "      <td>0.013519</td>\n",
       "      <td>0.342222</td>\n",
       "      <td>0.484503</td>\n",
       "      <td>-0.141816</td>\n",
       "      <td>-0.078053</td>\n",
       "      <td>0.067387</td>\n",
       "      <td>0.090765</td>\n",
       "      <td>-0.083816</td>\n",
       "    </tr>\n",
       "    <tr>\n",
       "      <th>Gender</th>\n",
       "      <td>0.000018</td>\n",
       "      <td>1.000000</td>\n",
       "      <td>-0.012263</td>\n",
       "      <td>-0.023927</td>\n",
       "      <td>-0.015053</td>\n",
       "      <td>-0.051637</td>\n",
       "      <td>0.031328</td>\n",
       "      <td>-0.033414</td>\n",
       "      <td>0.006977</td>\n",
       "      <td>0.026499</td>\n",
       "      <td>-0.000004</td>\n",
       "      <td>0.051385</td>\n",
       "    </tr>\n",
       "    <tr>\n",
       "      <th>Ethnicity</th>\n",
       "      <td>-0.041263</td>\n",
       "      <td>-0.012263</td>\n",
       "      <td>1.000000</td>\n",
       "      <td>-0.215775</td>\n",
       "      <td>-0.022617</td>\n",
       "      <td>-0.008793</td>\n",
       "      <td>-0.012811</td>\n",
       "      <td>-0.067856</td>\n",
       "      <td>0.118247</td>\n",
       "      <td>0.131670</td>\n",
       "      <td>-0.000732</td>\n",
       "      <td>-0.053569</td>\n",
       "    </tr>\n",
       "    <tr>\n",
       "      <th>Residency</th>\n",
       "      <td>0.102301</td>\n",
       "      <td>-0.023927</td>\n",
       "      <td>-0.215775</td>\n",
       "      <td>1.000000</td>\n",
       "      <td>0.037531</td>\n",
       "      <td>0.160340</td>\n",
       "      <td>-0.015801</td>\n",
       "      <td>0.152496</td>\n",
       "      <td>-0.113982</td>\n",
       "      <td>-0.259182</td>\n",
       "      <td>0.009156</td>\n",
       "      <td>-0.060594</td>\n",
       "    </tr>\n",
       "    <tr>\n",
       "      <th>Admit Term</th>\n",
       "      <td>0.013519</td>\n",
       "      <td>-0.015053</td>\n",
       "      <td>-0.022617</td>\n",
       "      <td>0.037531</td>\n",
       "      <td>1.000000</td>\n",
       "      <td>-0.006270</td>\n",
       "      <td>-0.016019</td>\n",
       "      <td>0.085836</td>\n",
       "      <td>-0.286549</td>\n",
       "      <td>-0.064561</td>\n",
       "      <td>0.016605</td>\n",
       "      <td>-0.065207</td>\n",
       "    </tr>\n",
       "    <tr>\n",
       "      <th>Degree / Non-Degree</th>\n",
       "      <td>0.342222</td>\n",
       "      <td>-0.051637</td>\n",
       "      <td>-0.008793</td>\n",
       "      <td>0.160340</td>\n",
       "      <td>-0.006270</td>\n",
       "      <td>1.000000</td>\n",
       "      <td>0.163643</td>\n",
       "      <td>-0.124955</td>\n",
       "      <td>0.025845</td>\n",
       "      <td>0.060974</td>\n",
       "      <td>0.064961</td>\n",
       "      <td>0.004221</td>\n",
       "    </tr>\n",
       "    <tr>\n",
       "      <th>Admit Type</th>\n",
       "      <td>0.484503</td>\n",
       "      <td>0.031328</td>\n",
       "      <td>-0.012811</td>\n",
       "      <td>-0.015801</td>\n",
       "      <td>-0.016019</td>\n",
       "      <td>0.163643</td>\n",
       "      <td>1.000000</td>\n",
       "      <td>-0.236926</td>\n",
       "      <td>-0.040483</td>\n",
       "      <td>0.180433</td>\n",
       "      <td>0.064959</td>\n",
       "      <td>-0.055637</td>\n",
       "    </tr>\n",
       "    <tr>\n",
       "      <th>Status</th>\n",
       "      <td>-0.141816</td>\n",
       "      <td>-0.033414</td>\n",
       "      <td>-0.067856</td>\n",
       "      <td>0.152496</td>\n",
       "      <td>0.085836</td>\n",
       "      <td>-0.124955</td>\n",
       "      <td>-0.236926</td>\n",
       "      <td>1.000000</td>\n",
       "      <td>-0.331095</td>\n",
       "      <td>-0.639739</td>\n",
       "      <td>-0.055717</td>\n",
       "      <td>0.010965</td>\n",
       "    </tr>\n",
       "    <tr>\n",
       "      <th>Admit Status</th>\n",
       "      <td>-0.078053</td>\n",
       "      <td>0.006977</td>\n",
       "      <td>0.118247</td>\n",
       "      <td>-0.113982</td>\n",
       "      <td>-0.286549</td>\n",
       "      <td>0.025845</td>\n",
       "      <td>-0.040483</td>\n",
       "      <td>-0.331095</td>\n",
       "      <td>1.000000</td>\n",
       "      <td>0.199734</td>\n",
       "      <td>0.019225</td>\n",
       "      <td>0.040106</td>\n",
       "    </tr>\n",
       "    <tr>\n",
       "      <th>Enrolled Status</th>\n",
       "      <td>0.067387</td>\n",
       "      <td>0.026499</td>\n",
       "      <td>0.131670</td>\n",
       "      <td>-0.259182</td>\n",
       "      <td>-0.064561</td>\n",
       "      <td>0.060974</td>\n",
       "      <td>0.180433</td>\n",
       "      <td>-0.639739</td>\n",
       "      <td>0.199734</td>\n",
       "      <td>1.000000</td>\n",
       "      <td>-0.071499</td>\n",
       "      <td>-0.033796</td>\n",
       "    </tr>\n",
       "    <tr>\n",
       "      <th>Withdrew?</th>\n",
       "      <td>0.090765</td>\n",
       "      <td>-0.000004</td>\n",
       "      <td>-0.000732</td>\n",
       "      <td>0.009156</td>\n",
       "      <td>0.016605</td>\n",
       "      <td>0.064961</td>\n",
       "      <td>0.064959</td>\n",
       "      <td>-0.055717</td>\n",
       "      <td>0.019225</td>\n",
       "      <td>-0.071499</td>\n",
       "      <td>1.000000</td>\n",
       "      <td>-0.016636</td>\n",
       "    </tr>\n",
       "    <tr>\n",
       "      <th>College2</th>\n",
       "      <td>-0.083816</td>\n",
       "      <td>0.051385</td>\n",
       "      <td>-0.053569</td>\n",
       "      <td>-0.060594</td>\n",
       "      <td>-0.065207</td>\n",
       "      <td>0.004221</td>\n",
       "      <td>-0.055637</td>\n",
       "      <td>0.010965</td>\n",
       "      <td>0.040106</td>\n",
       "      <td>-0.033796</td>\n",
       "      <td>-0.016636</td>\n",
       "      <td>1.000000</td>\n",
       "    </tr>\n",
       "  </tbody>\n",
       "</table>\n",
       "</div>"
      ],
      "text/plain": [
       "                          Age    Gender  Ethnicity  Residency  Admit Term  \\\n",
       "Age                  1.000000  0.000018  -0.041263   0.102301    0.013519   \n",
       "Gender               0.000018  1.000000  -0.012263  -0.023927   -0.015053   \n",
       "Ethnicity           -0.041263 -0.012263   1.000000  -0.215775   -0.022617   \n",
       "Residency            0.102301 -0.023927  -0.215775   1.000000    0.037531   \n",
       "Admit Term           0.013519 -0.015053  -0.022617   0.037531    1.000000   \n",
       "Degree / Non-Degree  0.342222 -0.051637  -0.008793   0.160340   -0.006270   \n",
       "Admit Type           0.484503  0.031328  -0.012811  -0.015801   -0.016019   \n",
       "Status              -0.141816 -0.033414  -0.067856   0.152496    0.085836   \n",
       "Admit Status        -0.078053  0.006977   0.118247  -0.113982   -0.286549   \n",
       "Enrolled Status      0.067387  0.026499   0.131670  -0.259182   -0.064561   \n",
       "Withdrew?            0.090765 -0.000004  -0.000732   0.009156    0.016605   \n",
       "College2            -0.083816  0.051385  -0.053569  -0.060594   -0.065207   \n",
       "\n",
       "                     Degree / Non-Degree  Admit Type    Status  Admit Status  \\\n",
       "Age                             0.342222    0.484503 -0.141816     -0.078053   \n",
       "Gender                         -0.051637    0.031328 -0.033414      0.006977   \n",
       "Ethnicity                      -0.008793   -0.012811 -0.067856      0.118247   \n",
       "Residency                       0.160340   -0.015801  0.152496     -0.113982   \n",
       "Admit Term                     -0.006270   -0.016019  0.085836     -0.286549   \n",
       "Degree / Non-Degree             1.000000    0.163643 -0.124955      0.025845   \n",
       "Admit Type                      0.163643    1.000000 -0.236926     -0.040483   \n",
       "Status                         -0.124955   -0.236926  1.000000     -0.331095   \n",
       "Admit Status                    0.025845   -0.040483 -0.331095      1.000000   \n",
       "Enrolled Status                 0.060974    0.180433 -0.639739      0.199734   \n",
       "Withdrew?                       0.064961    0.064959 -0.055717      0.019225   \n",
       "College2                        0.004221   -0.055637  0.010965      0.040106   \n",
       "\n",
       "                     Enrolled Status  Withdrew?  College2  \n",
       "Age                         0.067387   0.090765 -0.083816  \n",
       "Gender                      0.026499  -0.000004  0.051385  \n",
       "Ethnicity                   0.131670  -0.000732 -0.053569  \n",
       "Residency                  -0.259182   0.009156 -0.060594  \n",
       "Admit Term                 -0.064561   0.016605 -0.065207  \n",
       "Degree / Non-Degree         0.060974   0.064961  0.004221  \n",
       "Admit Type                  0.180433   0.064959 -0.055637  \n",
       "Status                     -0.639739  -0.055717  0.010965  \n",
       "Admit Status                0.199734   0.019225  0.040106  \n",
       "Enrolled Status             1.000000  -0.071499 -0.033796  \n",
       "Withdrew?                  -0.071499   1.000000 -0.016636  \n",
       "College2                   -0.033796  -0.016636  1.000000  "
      ]
     },
     "execution_count": 26,
     "metadata": {},
     "output_type": "execute_result"
    }
   ],
   "source": [
    "# Correlation Table\n",
    "stdnt_data2.corr()"
   ]
  },
  {
   "cell_type": "code",
   "execution_count": 27,
   "metadata": {},
   "outputs": [
    {
     "data": {
      "text/plain": [
       "<matplotlib.axes._subplots.AxesSubplot at 0x23b27db9e48>"
      ]
     },
     "execution_count": 27,
     "metadata": {},
     "output_type": "execute_result"
    },
    {
     "data": {
      "image/png": "[encoded data removed]",
      "text/plain": [
       "<Figure size 720x720 with 2 Axes>"
      ]
     },
     "metadata": {
      "needs_background": "light"
     },
     "output_type": "display_data"
    }
   ],
   "source": [
    "# Heatmap\n",
    "plt.figure(figsize=(10,10))\n",
    "sns.heatmap(stdnt_data2.corr(), vmax=.8, square=True, annot=True, fmt=\".1f\")"
   ]
  },
  {
   "cell_type": "markdown",
   "metadata": {},
   "source": [
    "The above heatmap and correlation analysis shows us that Status and Residency have a positive correlation, as does Age and Admit Type. The latter indicates that as age increases so does the tendency for students to be either a Readmit or Transfer admit.  Residency and Enrolled Status however, have a negative correlation, as well as Status and Admit Type. \n",
    "I think at this time it would be useful to analyze by admit type. This will allow for a in-depth view of the various factors, and also reduce the skewdness of the data as it is predominantely Freshmen and under the age of 20. "
   ]
  },
  {
   "cell_type": "code",
   "execution_count": 28,
   "metadata": {},
   "outputs": [],
   "source": [
    "# Create Datasets for admit types Freshmen and all other admit types\n",
    "FRS = stdnt_data2.drop(stdnt_data2[stdnt_data2['Admit Type']!= 1].index).reset_index(drop=True)\n",
    "FRS = FRS.drop(FRS[FRS['Age']>=19].index).reset_index(drop=True)\n",
    "AllOtherAdmits = stdnt_data2.drop(stdnt_data2[stdnt_data2['Admit Type']== 1].index).reset_index(drop=True)"
   ]
  },
  {
   "cell_type": "code",
   "execution_count": 29,
   "metadata": {
    "scrolled": false
   },
   "outputs": [
    {
     "data": {
      "text/html": [
       "<div>\n",
       "<style scoped>\n",
       "    .dataframe tbody tr th:only-of-type {\n",
       "        vertical-align: middle;\n",
       "    }\n",
       "\n",
       "    .dataframe tbody tr th {\n",
       "        vertical-align: top;\n",
       "    }\n",
       "\n",
       "    .dataframe thead th {\n",
       "        text-align: right;\n",
       "    }\n",
       "</style>\n",
       "<table border=\"1\" class=\"dataframe\">\n",
       "  <thead>\n",
       "    <tr style=\"text-align: right;\">\n",
       "      <th></th>\n",
       "      <th>Age</th>\n",
       "      <th>Gender</th>\n",
       "      <th>Citizenship</th>\n",
       "      <th>Ethnicity</th>\n",
       "      <th>Residency</th>\n",
       "      <th>Degree / Non-Degree</th>\n",
       "      <th>Admit Type</th>\n",
       "      <th>Status</th>\n",
       "      <th>Admit Status</th>\n",
       "      <th>Enrolled Status</th>\n",
       "      <th>Withdrew?</th>\n",
       "      <th>College2</th>\n",
       "    </tr>\n",
       "  </thead>\n",
       "  <tbody>\n",
       "    <tr>\n",
       "      <th>0</th>\n",
       "      <td>18</td>\n",
       "      <td>1</td>\n",
       "      <td>US</td>\n",
       "      <td>7</td>\n",
       "      <td>1</td>\n",
       "      <td>1</td>\n",
       "      <td>1</td>\n",
       "      <td>1</td>\n",
       "      <td>1</td>\n",
       "      <td>1</td>\n",
       "      <td>0</td>\n",
       "      <td>8</td>\n",
       "    </tr>\n",
       "    <tr>\n",
       "      <th>1</th>\n",
       "      <td>18</td>\n",
       "      <td>1</td>\n",
       "      <td>US</td>\n",
       "      <td>3</td>\n",
       "      <td>1</td>\n",
       "      <td>1</td>\n",
       "      <td>1</td>\n",
       "      <td>5</td>\n",
       "      <td>1</td>\n",
       "      <td>0</td>\n",
       "      <td>0</td>\n",
       "      <td>8</td>\n",
       "    </tr>\n",
       "    <tr>\n",
       "      <th>2</th>\n",
       "      <td>18</td>\n",
       "      <td>1</td>\n",
       "      <td>US</td>\n",
       "      <td>7</td>\n",
       "      <td>2</td>\n",
       "      <td>1</td>\n",
       "      <td>1</td>\n",
       "      <td>1</td>\n",
       "      <td>1</td>\n",
       "      <td>1</td>\n",
       "      <td>0</td>\n",
       "      <td>5</td>\n",
       "    </tr>\n",
       "    <tr>\n",
       "      <th>3</th>\n",
       "      <td>18</td>\n",
       "      <td>2</td>\n",
       "      <td>US</td>\n",
       "      <td>4</td>\n",
       "      <td>1</td>\n",
       "      <td>1</td>\n",
       "      <td>1</td>\n",
       "      <td>1</td>\n",
       "      <td>1</td>\n",
       "      <td>1</td>\n",
       "      <td>0</td>\n",
       "      <td>7</td>\n",
       "    </tr>\n",
       "    <tr>\n",
       "      <th>4</th>\n",
       "      <td>18</td>\n",
       "      <td>2</td>\n",
       "      <td>US</td>\n",
       "      <td>7</td>\n",
       "      <td>1</td>\n",
       "      <td>1</td>\n",
       "      <td>1</td>\n",
       "      <td>1</td>\n",
       "      <td>1</td>\n",
       "      <td>1</td>\n",
       "      <td>0</td>\n",
       "      <td>5</td>\n",
       "    </tr>\n",
       "  </tbody>\n",
       "</table>\n",
       "</div>"
      ],
      "text/plain": [
       "   Age  Gender Citizenship  Ethnicity  Residency  Degree / Non-Degree  \\\n",
       "0   18       1          US          7          1                    1   \n",
       "1   18       1          US          3          1                    1   \n",
       "2   18       1          US          7          2                    1   \n",
       "3   18       2          US          4          1                    1   \n",
       "4   18       2          US          7          1                    1   \n",
       "\n",
       "   Admit Type  Status  Admit Status  Enrolled Status  Withdrew?  College2  \n",
       "0           1       1             1                1          0         8  \n",
       "1           1       5             1                0          0         8  \n",
       "2           1       1             1                1          0         5  \n",
       "3           1       1             1                1          0         7  \n",
       "4           1       1             1                1          0         5  "
      ]
     },
     "execution_count": 29,
     "metadata": {},
     "output_type": "execute_result"
    }
   ],
   "source": [
    "FRS = FRS.drop(['State','Admit Term', 'College', 'Application Center', 'Application Date'], axis=1)\n",
    "AllOtherAdmits = AllOtherAdmits.drop(['State','Admit Term', 'College', 'Application Center', 'Application Date'], axis=1)\n",
    "FRS.head()"
   ]
  },
  {
   "cell_type": "code",
   "execution_count": 30,
   "metadata": {},
   "outputs": [
    {
     "data": {
      "text/plain": [
       "<seaborn.axisgrid.PairGrid at 0x23b282eaec8>"
      ]
     },
     "execution_count": 30,
     "metadata": {},
     "output_type": "execute_result"
    },
    {
     "data": {
      "image/png": "[encoded data removed]",
      "text/plain": [
       "<Figure size 1980x1980 with 121 Axes>"
      ]
     },
     "metadata": {
      "needs_background": "light"
     },
     "output_type": "display_data"
    }
   ],
   "source": [
    "# Scatterplots \n",
    "g = sns.PairGrid(FRS)\n",
    "g.map(plt.scatter)"
   ]
  },
  {
   "cell_type": "markdown",
   "metadata": {},
   "source": [
    "We can now see that after reducing the data to Freshmen only and under the age of 19, the scatterplots don't yield to much information by a quick overview. "
   ]
  },
  {
   "cell_type": "code",
   "execution_count": 31,
   "metadata": {},
   "outputs": [
    {
     "data": {
      "text/plain": [
       "<seaborn.axisgrid.PairGrid at 0x23b26dfa6c8>"
      ]
     },
     "execution_count": 31,
     "metadata": {},
     "output_type": "execute_result"
    },
    {
     "data": {
      "image/png": "[encoded data removed]",
      "text/plain": [
       "<Figure size 1980x1980 with 121 Axes>"
      ]
     },
     "metadata": {
      "needs_background": "light"
     },
     "output_type": "display_data"
    }
   ],
   "source": [
    "g2 = sns.PairGrid(AllOtherAdmits)\n",
    "g2.map(plt.scatter)"
   ]
  },
  {
   "cell_type": "markdown",
   "metadata": {},
   "source": [
    "### Taking a Closer Look - Correlation between two columns: \n",
    "#### Age & Ethnicity"
   ]
  },
  {
   "cell_type": "code",
   "execution_count": 32,
   "metadata": {},
   "outputs": [
    {
     "data": {
      "text/html": [
       "<div>\n",
       "<style scoped>\n",
       "    .dataframe tbody tr th:only-of-type {\n",
       "        vertical-align: middle;\n",
       "    }\n",
       "\n",
       "    .dataframe tbody tr th {\n",
       "        vertical-align: top;\n",
       "    }\n",
       "\n",
       "    .dataframe thead th {\n",
       "        text-align: right;\n",
       "    }\n",
       "</style>\n",
       "<table border=\"1\" class=\"dataframe\">\n",
       "  <thead>\n",
       "    <tr style=\"text-align: right;\">\n",
       "      <th></th>\n",
       "      <th>Age</th>\n",
       "      <th>Ethnicity</th>\n",
       "    </tr>\n",
       "  </thead>\n",
       "  <tbody>\n",
       "    <tr>\n",
       "      <th>Age</th>\n",
       "      <td>1.00000</td>\n",
       "      <td>0.07249</td>\n",
       "    </tr>\n",
       "    <tr>\n",
       "      <th>Ethnicity</th>\n",
       "      <td>0.07249</td>\n",
       "      <td>1.00000</td>\n",
       "    </tr>\n",
       "  </tbody>\n",
       "</table>\n",
       "</div>"
      ],
      "text/plain": [
       "               Age  Ethnicity\n",
       "Age        1.00000    0.07249\n",
       "Ethnicity  0.07249    1.00000"
      ]
     },
     "execution_count": 32,
     "metadata": {},
     "output_type": "execute_result"
    }
   ],
   "source": [
    "# Age & Ethnicity for Freshmen\n",
    "FRS[['Age', 'Ethnicity']].corr()"
   ]
  },
  {
   "cell_type": "code",
   "execution_count": 33,
   "metadata": {},
   "outputs": [
    {
     "data": {
      "text/html": [
       "<div>\n",
       "<style scoped>\n",
       "    .dataframe tbody tr th:only-of-type {\n",
       "        vertical-align: middle;\n",
       "    }\n",
       "\n",
       "    .dataframe tbody tr th {\n",
       "        vertical-align: top;\n",
       "    }\n",
       "\n",
       "    .dataframe thead th {\n",
       "        text-align: right;\n",
       "    }\n",
       "</style>\n",
       "<table border=\"1\" class=\"dataframe\">\n",
       "  <thead>\n",
       "    <tr style=\"text-align: right;\">\n",
       "      <th></th>\n",
       "      <th>Age</th>\n",
       "      <th>Ethnicity</th>\n",
       "    </tr>\n",
       "  </thead>\n",
       "  <tbody>\n",
       "    <tr>\n",
       "      <th>Age</th>\n",
       "      <td>1.000000</td>\n",
       "      <td>0.047077</td>\n",
       "    </tr>\n",
       "    <tr>\n",
       "      <th>Ethnicity</th>\n",
       "      <td>0.047077</td>\n",
       "      <td>1.000000</td>\n",
       "    </tr>\n",
       "  </tbody>\n",
       "</table>\n",
       "</div>"
      ],
      "text/plain": [
       "                Age  Ethnicity\n",
       "Age        1.000000   0.047077\n",
       "Ethnicity  0.047077   1.000000"
      ]
     },
     "execution_count": 33,
     "metadata": {},
     "output_type": "execute_result"
    }
   ],
   "source": [
    "# Age & Ethnicity for All other Admit Types\n",
    "AllOtherAdmits[['Age', 'Ethnicity']].corr()"
   ]
  },
  {
   "cell_type": "markdown",
   "metadata": {},
   "source": [
    "For both datasets, we can see that age and ethnicity are positively correlated, however, for the freshmen data, they are by far more strongly positively correlated. "
   ]
  },
  {
   "cell_type": "code",
   "execution_count": 35,
   "metadata": {},
   "outputs": [
    {
     "data": {
      "text/plain": [
       "<seaborn.axisgrid.JointGrid at 0x23b45004b48>"
      ]
     },
     "execution_count": 35,
     "metadata": {},
     "output_type": "execute_result"
    },
    {
     "data": {
      "image/png": "[encoded data removed]",
      "text/plain": [
       "<Figure size 432x432 with 3 Axes>"
      ]
     },
     "metadata": {
      "needs_background": "light"
     },
     "output_type": "display_data"
    }
   ],
   "source": [
    "sns.jointplot(x=\"Age\", y=\"Ethnicity\", data=AllOtherAdmits, kind=\"kde\")"
   ]
  },
  {
   "cell_type": "markdown",
   "metadata": {},
   "source": [
    "#### College and Ethnicity"
   ]
  },
  {
   "cell_type": "code",
   "execution_count": 41,
   "metadata": {},
   "outputs": [
    {
     "data": {
      "text/html": [
       "<div>\n",
       "<style scoped>\n",
       "    .dataframe tbody tr th:only-of-type {\n",
       "        vertical-align: middle;\n",
       "    }\n",
       "\n",
       "    .dataframe tbody tr th {\n",
       "        vertical-align: top;\n",
       "    }\n",
       "\n",
       "    .dataframe thead th {\n",
       "        text-align: right;\n",
       "    }\n",
       "</style>\n",
       "<table border=\"1\" class=\"dataframe\">\n",
       "  <thead>\n",
       "    <tr style=\"text-align: right;\">\n",
       "      <th></th>\n",
       "      <th>College2</th>\n",
       "      <th>Ethnicity</th>\n",
       "    </tr>\n",
       "  </thead>\n",
       "  <tbody>\n",
       "    <tr>\n",
       "      <th>College2</th>\n",
       "      <td>1.000000</td>\n",
       "      <td>-0.044402</td>\n",
       "    </tr>\n",
       "    <tr>\n",
       "      <th>Ethnicity</th>\n",
       "      <td>-0.044402</td>\n",
       "      <td>1.000000</td>\n",
       "    </tr>\n",
       "  </tbody>\n",
       "</table>\n",
       "</div>"
      ],
      "text/plain": [
       "           College2  Ethnicity\n",
       "College2   1.000000  -0.044402\n",
       "Ethnicity -0.044402   1.000000"
      ]
     },
     "execution_count": 41,
     "metadata": {},
     "output_type": "execute_result"
    }
   ],
   "source": [
    "FRS[['College2', 'Ethnicity']].corr()"
   ]
  },
  {
   "cell_type": "code",
   "execution_count": 42,
   "metadata": {},
   "outputs": [
    {
     "data": {
      "text/html": [
       "<div>\n",
       "<style scoped>\n",
       "    .dataframe tbody tr th:only-of-type {\n",
       "        vertical-align: middle;\n",
       "    }\n",
       "\n",
       "    .dataframe tbody tr th {\n",
       "        vertical-align: top;\n",
       "    }\n",
       "\n",
       "    .dataframe thead th {\n",
       "        text-align: right;\n",
       "    }\n",
       "</style>\n",
       "<table border=\"1\" class=\"dataframe\">\n",
       "  <thead>\n",
       "    <tr style=\"text-align: right;\">\n",
       "      <th></th>\n",
       "      <th>College2</th>\n",
       "      <th>Ethnicity</th>\n",
       "    </tr>\n",
       "  </thead>\n",
       "  <tbody>\n",
       "    <tr>\n",
       "      <th>College2</th>\n",
       "      <td>1.000000</td>\n",
       "      <td>-0.086287</td>\n",
       "    </tr>\n",
       "    <tr>\n",
       "      <th>Ethnicity</th>\n",
       "      <td>-0.086287</td>\n",
       "      <td>1.000000</td>\n",
       "    </tr>\n",
       "  </tbody>\n",
       "</table>\n",
       "</div>"
      ],
      "text/plain": [
       "           College2  Ethnicity\n",
       "College2   1.000000  -0.086287\n",
       "Ethnicity -0.086287   1.000000"
      ]
     },
     "execution_count": 42,
     "metadata": {},
     "output_type": "execute_result"
    }
   ],
   "source": [
    "AllOtherAdmits[['College2', 'Ethnicity']].corr()"
   ]
  },
  {
   "cell_type": "markdown",
   "metadata": {},
   "source": [
    "While both are negatively correlated, the factor increases for all other admit types. This may indicate that freshmen tend to be undecided, entering the 'open options' track for Arts & Sciences while other admit types, tend to already be focused on a given track and program by the time they are admitted into the university and the respective college. "
   ]
  },
  {
   "cell_type": "code",
   "execution_count": 37,
   "metadata": {
    "scrolled": false
   },
   "outputs": [
    {
     "data": {
      "text/plain": [
       "College2\n",
       "1    [[AxesSubplot(0.125,0.125;0.775x0.755)]]\n",
       "2    [[AxesSubplot(0.125,0.125;0.775x0.755)]]\n",
       "3    [[AxesSubplot(0.125,0.125;0.775x0.755)]]\n",
       "4    [[AxesSubplot(0.125,0.125;0.775x0.755)]]\n",
       "5    [[AxesSubplot(0.125,0.125;0.775x0.755)]]\n",
       "6    [[AxesSubplot(0.125,0.125;0.775x0.755)]]\n",
       "7    [[AxesSubplot(0.125,0.125;0.775x0.755)]]\n",
       "8    [[AxesSubplot(0.125,0.125;0.775x0.755)]]\n",
       "dtype: object"
      ]
     },
     "execution_count": 37,
     "metadata": {},
     "output_type": "execute_result"
    },
    {
     "data": {
      "image/png": "[encoded data removed]",
      "text/plain": [
       "<Figure size 432x288 with 1 Axes>"
      ]
     },
     "metadata": {
      "needs_background": "light"
     },
     "output_type": "display_data"
    },
    {
     "data": {
      "image/png": "[encoded data removed]",
      "text/plain": [
       "<Figure size 432x288 with 1 Axes>"
      ]
     },
     "metadata": {
      "needs_background": "light"
     },
     "output_type": "display_data"
    },
    {
     "data": {
      "image/png": "[encoded data removed]",
      "text/plain": [
       "<Figure size 432x288 with 1 Axes>"
      ]
     },
     "metadata": {
      "needs_background": "light"
     },
     "output_type": "display_data"
    },
    {
     "data": {
      "image/png": "[encoded data removed]",
      "text/plain": [
       "<Figure size 432x288 with 1 Axes>"
      ]
     },
     "metadata": {
      "needs_background": "light"
     },
     "output_type": "display_data"
    },
    {
     "data": {
      "image/png": "[encoded data removed]",
      "text/plain": [
       "<Figure size 432x288 with 1 Axes>"
      ]
     },
     "metadata": {
      "needs_background": "light"
     },
     "output_type": "display_data"
    },
    {
     "data": {
      "image/png": "[encoded data removed]",
      "text/plain": [
       "<Figure size 432x288 with 1 Axes>"
      ]
     },
     "metadata": {
      "needs_background": "light"
     },
     "output_type": "display_data"
    },
    {
     "data": {
      "image/png": "[encoded data removed]",
      "text/plain": [
       "<Figure size 432x288 with 1 Axes>"
      ]
     },
     "metadata": {
      "needs_background": "light"
     },
     "output_type": "display_data"
    },
    {
     "data": {
      "image/png": "[encoded data removed]",
      "text/plain": [
       "<Figure size 432x288 with 1 Axes>"
      ]
     },
     "metadata": {
      "needs_background": "light"
     },
     "output_type": "display_data"
    }
   ],
   "source": [
    "# Grouped distribution of ethnicity by College\n",
    "FRS.groupby('College2').hist('Ethnicity')"
   ]
  },
  {
   "cell_type": "code",
   "execution_count": 38,
   "metadata": {
    "scrolled": false
   },
   "outputs": [
    {
     "data": {
      "text/plain": [
       "College2\n",
       "1    [[AxesSubplot(0.125,0.125;0.775x0.755)]]\n",
       "2    [[AxesSubplot(0.125,0.125;0.775x0.755)]]\n",
       "3    [[AxesSubplot(0.125,0.125;0.775x0.755)]]\n",
       "4    [[AxesSubplot(0.125,0.125;0.775x0.755)]]\n",
       "5    [[AxesSubplot(0.125,0.125;0.775x0.755)]]\n",
       "6    [[AxesSubplot(0.125,0.125;0.775x0.755)]]\n",
       "7    [[AxesSubplot(0.125,0.125;0.775x0.755)]]\n",
       "8    [[AxesSubplot(0.125,0.125;0.775x0.755)]]\n",
       "dtype: object"
      ]
     },
     "execution_count": 38,
     "metadata": {},
     "output_type": "execute_result"
    },
    {
     "data": {
      "image/png": "[encoded data removed]",
      "text/plain": [
       "<Figure size 432x288 with 1 Axes>"
      ]
     },
     "metadata": {
      "needs_background": "light"
     },
     "output_type": "display_data"
    },
    {
     "data": {
      "image/png": "[encoded data removed]",
      "text/plain": [
       "<Figure size 432x288 with 1 Axes>"
      ]
     },
     "metadata": {
      "needs_background": "light"
     },
     "output_type": "display_data"
    },
    {
     "data": {
      "image/png": "[encoded data removed]",
      "text/plain": [
       "<Figure size 432x288 with 1 Axes>"
      ]
     },
     "metadata": {
      "needs_background": "light"
     },
     "output_type": "display_data"
    },
    {
     "data": {
      "image/png": "[encoded data removed]",
      "text/plain": [
       "<Figure size 432x288 with 1 Axes>"
      ]
     },
     "metadata": {
      "needs_background": "light"
     },
     "output_type": "display_data"
    },
    {
     "data": {
      "image/png": "[encoded data removed]",
      "text/plain": [
       "<Figure size 432x288 with 1 Axes>"
      ]
     },
     "metadata": {
      "needs_background": "light"
     },
     "output_type": "display_data"
    },
    {
     "data": {
      "image/png": "[encoded data removed]",
      "text/plain": [
       "<Figure size 432x288 with 1 Axes>"
      ]
     },
     "metadata": {
      "needs_background": "light"
     },
     "output_type": "display_data"
    },
    {
     "data": {
      "image/png": "[encoded data removed]",
      "text/plain": [
       "<Figure size 432x288 with 1 Axes>"
      ]
     },
     "metadata": {
      "needs_background": "light"
     },
     "output_type": "display_data"
    },
    {
     "data": {
      "image/png": "[encoded data removed]",
      "text/plain": [
       "<Figure size 432x288 with 1 Axes>"
      ]
     },
     "metadata": {
      "needs_background": "light"
     },
     "output_type": "display_data"
    }
   ],
   "source": [
    "AllOtherAdmits.groupby('College2').hist('Ethnicity')"
   ]
  },
  {
   "cell_type": "markdown",
   "metadata": {},
   "source": [
    "By taking a look at the grouped distribution it is obvious right away, that for traditional Freshmen, the students are predominantely white across all colleges. Once we look at the other admit types, the distribution, while still skewed towards white students, are now showing increases in other ethnicities for some of the colleges. Specifically, for the following colleges: Architecture (1), Business Administration (6), and Engineering (7).  "
   ]
  },
  {
   "cell_type": "markdown",
   "metadata": {},
   "source": [
    "#### Gender and College / Ethnicity"
   ]
  },
  {
   "cell_type": "code",
   "execution_count": 40,
   "metadata": {},
   "outputs": [
    {
     "data": {
      "text/plain": [
       "Gender\n",
       "1    30172\n",
       "2    24422\n",
       "dtype: int64"
      ]
     },
     "execution_count": 40,
     "metadata": {},
     "output_type": "execute_result"
    }
   ],
   "source": [
    "gen = FRS.groupby('Gender').size()\n",
    "gen"
   ]
  },
  {
   "cell_type": "code",
   "execution_count": 44,
   "metadata": {},
   "outputs": [
    {
     "data": {
      "text/plain": [
       "Gender\n",
       "1    19480\n",
       "2    20770\n",
       "dtype: int64"
      ]
     },
     "execution_count": 44,
     "metadata": {},
     "output_type": "execute_result"
    }
   ],
   "source": [
    "gen2 = AllOtherAdmits.groupby('Gender').size()\n",
    "gen2"
   ]
  },
  {
   "cell_type": "markdown",
   "metadata": {},
   "source": [
    "Interestingly, for Freshmen, there are more female studens while for all other admit types, we show more male students. "
   ]
  },
  {
   "cell_type": "code",
   "execution_count": 45,
   "metadata": {},
   "outputs": [
    {
     "data": {
      "text/html": [
       "<div>\n",
       "<style scoped>\n",
       "    .dataframe tbody tr th:only-of-type {\n",
       "        vertical-align: middle;\n",
       "    }\n",
       "\n",
       "    .dataframe tbody tr th {\n",
       "        vertical-align: top;\n",
       "    }\n",
       "\n",
       "    .dataframe thead th {\n",
       "        text-align: right;\n",
       "    }\n",
       "</style>\n",
       "<table border=\"1\" class=\"dataframe\">\n",
       "  <thead>\n",
       "    <tr style=\"text-align: right;\">\n",
       "      <th></th>\n",
       "      <th>Gender</th>\n",
       "      <th>College2</th>\n",
       "    </tr>\n",
       "  </thead>\n",
       "  <tbody>\n",
       "    <tr>\n",
       "      <th>Gender</th>\n",
       "      <td>1.000000</td>\n",
       "      <td>0.045361</td>\n",
       "    </tr>\n",
       "    <tr>\n",
       "      <th>College2</th>\n",
       "      <td>0.045361</td>\n",
       "      <td>1.000000</td>\n",
       "    </tr>\n",
       "  </tbody>\n",
       "</table>\n",
       "</div>"
      ],
      "text/plain": [
       "            Gender  College2\n",
       "Gender    1.000000  0.045361\n",
       "College2  0.045361  1.000000"
      ]
     },
     "execution_count": 45,
     "metadata": {},
     "output_type": "execute_result"
    }
   ],
   "source": [
    "FRS[['Gender', 'College2']].corr()"
   ]
  },
  {
   "cell_type": "code",
   "execution_count": 46,
   "metadata": {},
   "outputs": [
    {
     "data": {
      "text/html": [
       "<div>\n",
       "<style scoped>\n",
       "    .dataframe tbody tr th:only-of-type {\n",
       "        vertical-align: middle;\n",
       "    }\n",
       "\n",
       "    .dataframe tbody tr th {\n",
       "        vertical-align: top;\n",
       "    }\n",
       "\n",
       "    .dataframe thead th {\n",
       "        text-align: right;\n",
       "    }\n",
       "</style>\n",
       "<table border=\"1\" class=\"dataframe\">\n",
       "  <thead>\n",
       "    <tr style=\"text-align: right;\">\n",
       "      <th></th>\n",
       "      <th>Gender</th>\n",
       "      <th>College2</th>\n",
       "    </tr>\n",
       "  </thead>\n",
       "  <tbody>\n",
       "    <tr>\n",
       "      <th>Gender</th>\n",
       "      <td>1.000000</td>\n",
       "      <td>0.075634</td>\n",
       "    </tr>\n",
       "    <tr>\n",
       "      <th>College2</th>\n",
       "      <td>0.075634</td>\n",
       "      <td>1.000000</td>\n",
       "    </tr>\n",
       "  </tbody>\n",
       "</table>\n",
       "</div>"
      ],
      "text/plain": [
       "            Gender  College2\n",
       "Gender    1.000000  0.075634\n",
       "College2  0.075634  1.000000"
      ]
     },
     "execution_count": 46,
     "metadata": {},
     "output_type": "execute_result"
    }
   ],
   "source": [
    "AllOtherAdmits[['Gender', 'College2']].corr()"
   ]
  },
  {
   "cell_type": "markdown",
   "metadata": {},
   "source": [
    "Gender and College are both positively correlated, indicating that as we increase in the college code assigned, we tend to see more male students. This is likely due to Engineering and Business being in the highest 3 assigned numeric categories. "
   ]
  },
  {
   "cell_type": "code",
   "execution_count": 47,
   "metadata": {},
   "outputs": [
    {
     "data": {
      "text/html": [
       "<div>\n",
       "<style scoped>\n",
       "    .dataframe tbody tr th:only-of-type {\n",
       "        vertical-align: middle;\n",
       "    }\n",
       "\n",
       "    .dataframe tbody tr th {\n",
       "        vertical-align: top;\n",
       "    }\n",
       "\n",
       "    .dataframe thead th {\n",
       "        text-align: right;\n",
       "    }\n",
       "</style>\n",
       "<table border=\"1\" class=\"dataframe\">\n",
       "  <thead>\n",
       "    <tr style=\"text-align: right;\">\n",
       "      <th></th>\n",
       "      <th>Gender</th>\n",
       "      <th>Ethnicity</th>\n",
       "    </tr>\n",
       "  </thead>\n",
       "  <tbody>\n",
       "    <tr>\n",
       "      <th>Gender</th>\n",
       "      <td>1.000000</td>\n",
       "      <td>0.004251</td>\n",
       "    </tr>\n",
       "    <tr>\n",
       "      <th>Ethnicity</th>\n",
       "      <td>0.004251</td>\n",
       "      <td>1.000000</td>\n",
       "    </tr>\n",
       "  </tbody>\n",
       "</table>\n",
       "</div>"
      ],
      "text/plain": [
       "             Gender  Ethnicity\n",
       "Gender     1.000000   0.004251\n",
       "Ethnicity  0.004251   1.000000"
      ]
     },
     "execution_count": 47,
     "metadata": {},
     "output_type": "execute_result"
    }
   ],
   "source": [
    "FRS[['Gender', 'Ethnicity']].corr()"
   ]
  },
  {
   "cell_type": "code",
   "execution_count": 48,
   "metadata": {},
   "outputs": [
    {
     "data": {
      "text/html": [
       "<div>\n",
       "<style scoped>\n",
       "    .dataframe tbody tr th:only-of-type {\n",
       "        vertical-align: middle;\n",
       "    }\n",
       "\n",
       "    .dataframe tbody tr th {\n",
       "        vertical-align: top;\n",
       "    }\n",
       "\n",
       "    .dataframe thead th {\n",
       "        text-align: right;\n",
       "    }\n",
       "</style>\n",
       "<table border=\"1\" class=\"dataframe\">\n",
       "  <thead>\n",
       "    <tr style=\"text-align: right;\">\n",
       "      <th></th>\n",
       "      <th>Gender</th>\n",
       "      <th>Ethnicity</th>\n",
       "    </tr>\n",
       "  </thead>\n",
       "  <tbody>\n",
       "    <tr>\n",
       "      <th>Gender</th>\n",
       "      <td>1.00000</td>\n",
       "      <td>-0.04287</td>\n",
       "    </tr>\n",
       "    <tr>\n",
       "      <th>Ethnicity</th>\n",
       "      <td>-0.04287</td>\n",
       "      <td>1.00000</td>\n",
       "    </tr>\n",
       "  </tbody>\n",
       "</table>\n",
       "</div>"
      ],
      "text/plain": [
       "            Gender  Ethnicity\n",
       "Gender     1.00000   -0.04287\n",
       "Ethnicity -0.04287    1.00000"
      ]
     },
     "execution_count": 48,
     "metadata": {},
     "output_type": "execute_result"
    }
   ],
   "source": [
    "AllOtherAdmits[['Gender', 'Ethnicity']].corr()"
   ]
  },
  {
   "cell_type": "markdown",
   "metadata": {},
   "source": [
    "The positive correlation between gender and ethnicity, indicates that it trends towards white, male students for Freshmen, while these two factors are negatively correlated for all other admit types indicating non-male, white, or non-white, male students in this group."
   ]
  },
  {
   "cell_type": "code",
   "execution_count": 49,
   "metadata": {},
   "outputs": [
    {
     "data": {
      "text/html": [
       "<div>\n",
       "<style scoped>\n",
       "    .dataframe tbody tr th:only-of-type {\n",
       "        vertical-align: middle;\n",
       "    }\n",
       "\n",
       "    .dataframe tbody tr th {\n",
       "        vertical-align: top;\n",
       "    }\n",
       "\n",
       "    .dataframe thead th {\n",
       "        text-align: right;\n",
       "    }\n",
       "</style>\n",
       "<table border=\"1\" class=\"dataframe\">\n",
       "  <thead>\n",
       "    <tr style=\"text-align: right;\">\n",
       "      <th></th>\n",
       "      <th>Gender</th>\n",
       "      <th>Age</th>\n",
       "    </tr>\n",
       "  </thead>\n",
       "  <tbody>\n",
       "    <tr>\n",
       "      <th>Gender</th>\n",
       "      <td>1.000000</td>\n",
       "      <td>0.018314</td>\n",
       "    </tr>\n",
       "    <tr>\n",
       "      <th>Age</th>\n",
       "      <td>0.018314</td>\n",
       "      <td>1.000000</td>\n",
       "    </tr>\n",
       "  </tbody>\n",
       "</table>\n",
       "</div>"
      ],
      "text/plain": [
       "          Gender       Age\n",
       "Gender  1.000000  0.018314\n",
       "Age     0.018314  1.000000"
      ]
     },
     "execution_count": 49,
     "metadata": {},
     "output_type": "execute_result"
    }
   ],
   "source": [
    "FRS[['Gender', 'Age']].corr()"
   ]
  },
  {
   "cell_type": "code",
   "execution_count": 50,
   "metadata": {},
   "outputs": [
    {
     "data": {
      "text/html": [
       "<div>\n",
       "<style scoped>\n",
       "    .dataframe tbody tr th:only-of-type {\n",
       "        vertical-align: middle;\n",
       "    }\n",
       "\n",
       "    .dataframe tbody tr th {\n",
       "        vertical-align: top;\n",
       "    }\n",
       "\n",
       "    .dataframe thead th {\n",
       "        text-align: right;\n",
       "    }\n",
       "</style>\n",
       "<table border=\"1\" class=\"dataframe\">\n",
       "  <thead>\n",
       "    <tr style=\"text-align: right;\">\n",
       "      <th></th>\n",
       "      <th>Gender</th>\n",
       "      <th>Age</th>\n",
       "    </tr>\n",
       "  </thead>\n",
       "  <tbody>\n",
       "    <tr>\n",
       "      <th>Gender</th>\n",
       "      <td>1.000000</td>\n",
       "      <td>-0.064459</td>\n",
       "    </tr>\n",
       "    <tr>\n",
       "      <th>Age</th>\n",
       "      <td>-0.064459</td>\n",
       "      <td>1.000000</td>\n",
       "    </tr>\n",
       "  </tbody>\n",
       "</table>\n",
       "</div>"
      ],
      "text/plain": [
       "          Gender       Age\n",
       "Gender  1.000000 -0.064459\n",
       "Age    -0.064459  1.000000"
      ]
     },
     "execution_count": 50,
     "metadata": {},
     "output_type": "execute_result"
    }
   ],
   "source": [
    "AllOtherAdmits[['Gender', 'Age']].corr()"
   ]
  },
  {
   "cell_type": "markdown",
   "metadata": {},
   "source": [
    "The prior correlation analysis of admit type and gender, could have led us to believe that there were more male students across the board, however, with the gender and age correlation analysis for all other admit types, we can see that this being negatively correlated, the older the student tends to be, the likelihood of the student being female, increases as well. Therefore, for admit types with a younger population, these would trend to be more male students vs. female. This is definitely something important and worth noting, as in that females are more likely to pause and resume (e.g. readmits) academic careers later in life than male students. "
   ]
  },
  {
   "cell_type": "markdown",
   "metadata": {},
   "source": [
    "#### Age and Admit Type (All Others)"
   ]
  },
  {
   "cell_type": "code",
   "execution_count": 43,
   "metadata": {},
   "outputs": [
    {
     "data": {
      "text/html": [
       "<div>\n",
       "<style scoped>\n",
       "    .dataframe tbody tr th:only-of-type {\n",
       "        vertical-align: middle;\n",
       "    }\n",
       "\n",
       "    .dataframe tbody tr th {\n",
       "        vertical-align: top;\n",
       "    }\n",
       "\n",
       "    .dataframe thead th {\n",
       "        text-align: right;\n",
       "    }\n",
       "</style>\n",
       "<table border=\"1\" class=\"dataframe\">\n",
       "  <thead>\n",
       "    <tr style=\"text-align: right;\">\n",
       "      <th></th>\n",
       "      <th>Age</th>\n",
       "      <th>Admit Type</th>\n",
       "    </tr>\n",
       "  </thead>\n",
       "  <tbody>\n",
       "    <tr>\n",
       "      <th>Age</th>\n",
       "      <td>1.000000</td>\n",
       "      <td>0.054473</td>\n",
       "    </tr>\n",
       "    <tr>\n",
       "      <th>Admit Type</th>\n",
       "      <td>0.054473</td>\n",
       "      <td>1.000000</td>\n",
       "    </tr>\n",
       "  </tbody>\n",
       "</table>\n",
       "</div>"
      ],
      "text/plain": [
       "                 Age  Admit Type\n",
       "Age         1.000000    0.054473\n",
       "Admit Type  0.054473    1.000000"
      ]
     },
     "execution_count": 43,
     "metadata": {},
     "output_type": "execute_result"
    }
   ],
   "source": [
    "AllOtherAdmits[['Age', 'Admit Type']].corr()"
   ]
  },
  {
   "cell_type": "code",
   "execution_count": 34,
   "metadata": {},
   "outputs": [
    {
     "data": {
      "text/plain": [
       "<seaborn.axisgrid.JointGrid at 0x23b43f35488>"
      ]
     },
     "execution_count": 34,
     "metadata": {},
     "output_type": "execute_result"
    },
    {
     "data": {
      "image/png": "[encoded data removed]",
      "text/plain": [
       "<Figure size 432x432 with 3 Axes>"
      ]
     },
     "metadata": {
      "needs_background": "light"
     },
     "output_type": "display_data"
    }
   ],
   "source": [
    "# Jointplot\n",
    "sns.jointplot(x=\"Age\", y=\"Admit Type\", data=AllOtherAdmits, kind=\"kde\")"
   ]
  },
  {
   "cell_type": "markdown",
   "metadata": {},
   "source": [
    "When looking at the age distribution for all other admit types, we can see that transfer and international students also tend to be younger and more heavily represented within this population. This is going to be important when taking into account our earlier result of female students tending to be older for admit types other than freshmen. "
   ]
  },
  {
   "cell_type": "markdown",
   "metadata": {},
   "source": [
    "### 4.b) T-Test"
   ]
  },
  {
   "cell_type": "code",
   "execution_count": 80,
   "metadata": {},
   "outputs": [
    {
     "data": {
      "text/plain": [
       "Ttest_indResult(statistic=-0.9932137270826883, pvalue=0.3206102122725786)"
      ]
     },
     "execution_count": 80,
     "metadata": {},
     "output_type": "execute_result"
    }
   ],
   "source": [
    "female = FRS[FRS['Gender'] == 1]['Ethnicity']\n",
    "male = FRS[FRS['Gender'] == 2]['Ethnicity']\n",
    "stats.ttest_ind(female, male)"
   ]
  },
  {
   "cell_type": "code",
   "execution_count": 81,
   "metadata": {},
   "outputs": [
    {
     "name": "stdout",
     "output_type": "stream",
     "text": [
      "The t-statistic is -0.993 and the p-value is 0.321.\n"
     ]
    }
   ],
   "source": [
    "two_sample = stats.ttest_ind(female, male)\n",
    "print (\"The t-statistic is %.3f and the p-value is %.3f.\" % two_sample)"
   ]
  },
  {
   "cell_type": "code",
   "execution_count": 84,
   "metadata": {},
   "outputs": [
    {
     "data": {
      "text/plain": [
       "Ttest_indResult(statistic=8.608550212674903, pvalue=7.662471663707409e-18)"
      ]
     },
     "execution_count": 84,
     "metadata": {},
     "output_type": "execute_result"
    }
   ],
   "source": [
    "female2 = AllOtherAdmits[AllOtherAdmits['Gender'] == 1]['Ethnicity']\n",
    "male2 = AllOtherAdmits[AllOtherAdmits['Gender'] == 2]['Ethnicity']\n",
    "stats.ttest_ind(female2, male2)"
   ]
  },
  {
   "cell_type": "code",
   "execution_count": 85,
   "metadata": {},
   "outputs": [
    {
     "name": "stdout",
     "output_type": "stream",
     "text": [
      "The t-statistic is 8.609 and the p-value is 0.000.\n"
     ]
    }
   ],
   "source": [
    "two_sample = stats.ttest_ind(female2, male2)\n",
    "print (\"The t-statistic is %.3f and the p-value is %.3f.\" % two_sample)"
   ]
  },
  {
   "cell_type": "markdown",
   "metadata": {},
   "source": [
    "The high p-value for the freshmen group indicates that there is no significant difference between the two groups in terms of ethnicity. For all other admit types, this is not the case and the low p-value indicates here that there is indeed a significatnt difference between the groups male / female and ethnicity. "
   ]
  },
  {
   "cell_type": "markdown",
   "metadata": {},
   "source": [
    "### 4.c) Boxplots and Variance"
   ]
  },
  {
   "cell_type": "code",
   "execution_count": 91,
   "metadata": {},
   "outputs": [
    {
     "data": {
      "text/plain": [
       "<matplotlib.axes._subplots.AxesSubplot at 0x23b486f04c8>"
      ]
     },
     "execution_count": 91,
     "metadata": {},
     "output_type": "execute_result"
    },
    {
     "data": {
      "image/png": "[encoded data removed]",
      "text/plain": [
       "<Figure size 1440x1440 with 1 Axes>"
      ]
     },
     "metadata": {
      "needs_background": "light"
     },
     "output_type": "display_data"
    }
   ],
   "source": [
    "FRS.boxplot(figsize=(20,20))"
   ]
  },
  {
   "cell_type": "code",
   "execution_count": 92,
   "metadata": {},
   "outputs": [
    {
     "data": {
      "text/plain": [
       "<matplotlib.axes._subplots.AxesSubplot at 0x23b4a192448>"
      ]
     },
     "execution_count": 92,
     "metadata": {},
     "output_type": "execute_result"
    },
    {
     "data": {
      "image/png": "[encoded data removed]",
      "text/plain": [
       "<Figure size 1440x1440 with 1 Axes>"
      ]
     },
     "metadata": {
      "needs_background": "light"
     },
     "output_type": "display_data"
    }
   ],
   "source": [
    "AllOtherAdmits.boxplot(figsize=(20,20))"
   ]
  },
  {
   "cell_type": "code",
   "execution_count": 89,
   "metadata": {},
   "outputs": [
    {
     "data": {
      "text/plain": [
       "Age                    0.022547\n",
       "Gender                 0.247231\n",
       "Ethnicity              1.386818\n",
       "Residency              0.225872\n",
       "Degree / Non-Degree    0.000732\n",
       "Admit Type             0.000000\n",
       "Status                 2.697959\n",
       "Admit Status           0.028173\n",
       "Enrolled Status        0.240430\n",
       "Withdrew?              0.002576\n",
       "College2               3.780054\n",
       "dtype: float64"
      ]
     },
     "execution_count": 89,
     "metadata": {},
     "output_type": "execute_result"
    }
   ],
   "source": [
    "FRS.var()"
   ]
  },
  {
   "cell_type": "code",
   "execution_count": 93,
   "metadata": {},
   "outputs": [
    {
     "data": {
      "text/plain": [
       "Age                    47.512395\n",
       "Gender                  0.249749\n",
       "Ethnicity               1.525348\n",
       "Residency               0.249633\n",
       "Degree / Non-Degree     0.114451\n",
       "Admit Type              0.997680\n",
       "Status                  1.720797\n",
       "Admit Status            0.062669\n",
       "Enrolled Status         0.248981\n",
       "Withdrew?               0.014830\n",
       "College2                3.798428\n",
       "dtype: float64"
      ]
     },
     "execution_count": 93,
     "metadata": {},
     "output_type": "execute_result"
    }
   ],
   "source": [
    "AllOtherAdmits.var()"
   ]
  },
  {
   "cell_type": "markdown",
   "metadata": {},
   "source": [
    "This shows us that we certainly have greater variance in all other admit types when it comes to ethnicity, however, regarding status, freshmen show a greater variance. This indicates that freshmen may apply, but not follow through with admission, enrollment, etc. Furthermore, college variance is also greater among the all other admit type group. "
   ]
  },
  {
   "cell_type": "code",
   "execution_count": null,
   "metadata": {},
   "outputs": [],
   "source": []
  }
 ],
 "metadata": {
  "kernelspec": {
   "display_name": "Python 3",
   "language": "python",
   "name": "python3"
  },
  "language_info": {
   "codemirror_mode": {
    "name": "ipython",
    "version": 3
   },
   "file_extension": ".py",
   "mimetype": "text/x-python",
   "name": "python",
   "nbconvert_exporter": "python",
   "pygments_lexer": "ipython3",
   "version": "3.7.6"
  }
 },
 "nbformat": 4,
 "nbformat_minor": 4
}

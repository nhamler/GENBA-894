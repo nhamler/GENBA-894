{
 "cells": [
  {
   "cell_type": "code",
   "execution_count": 1,
   "metadata": {},
   "outputs": [],
   "source": [
    "# Import Python packages\n",
    "\n",
    "import pandas as pd\n",
    "import numpy as np\n",
    "import seaborn as sns\n",
    "import matplotlib.pyplot as plt\n",
    "%matplotlib inline\n",
    "\n",
    "from datetime import datetime\n",
    "\n",
    "# Regression packages\n",
    "import sklearn.linear_model as lm\n",
    "from sklearn.metrics import mean_squared_error\n",
    "from sklearn.metrics import explained_variance_score\n",
    "import statsmodels.formula.api as sm\n",
    "from sklearn import linear_model\n",
    "from sklearn.feature_selection import f_regression\n",
    "from sklearn.feature_selection import SelectKBest\n",
    "from sklearn.feature_selection import RFE\n",
    "from sklearn.ensemble import RandomForestRegressor\n",
    "from sklearn.datasets import make_regression\n",
    "from sklearn.svm import SVR"
   ]
  },
  {
   "cell_type": "markdown",
   "metadata": {},
   "source": [
    "### 1. Import Dataset \n",
    "Data Description:\n",
    "* Collected undergraduate student applicant data from the Kansas State University Student Information System (KSIS) \n",
    "* Student applicant demographics\n",
    "* Years: 2012 through 2019\n",
    "\n",
    "Data Fields:\n",
    "> * ID: equivalent to primary key identifier\n",
    "> * State: continental US States only\n",
    "> * Age \n",
    "> * Gender\n",
    "> * Citizenship: As disclosed by student during application process; for US students populated with 'US'\n",
    "> * Ethnicity: as given by student during application process\n",
    "> * Residency: IS = In-State (KS); OS = Out of State (non-KS)\n",
    "> * Admit Term\n",
    "> * College: college and program that student has applied to\n",
    "> * Degree / Non-Degree: status of application for degree program vs. non-degree program (e.g. certificate)\n",
    "> * Application Center: K-State campust to which student has applied\n",
    "> * Admit Type: traditional freshmen, re-admits, online students, or transfer students\n",
    "> * Status: current status of student's application / program \n",
    "> * Application Date: date when application was submitted to / received by K-State\n",
    "> * Admit Status: derived from now deleted column 'Admit Date', which if exists = 'Admitted', otherwise: 'Not Admitted'\n",
    "> * Enrolled Status: derived from now deleted column 'Enrollment Date', which if exists = 'Enrolled', otherwise: 'Not Enrolled'\n",
    "> * Withdrew?: did the student at any point withdraw after having been admitted\n",
    "\n",
    "Pre-Processing Steps:\n",
    "* Data pre-cleaned via Excel:\n",
    "> * Verified data consistency, integrity, and accuracy\n",
    "> * Deleted identifing information and non-demographic data\n",
    "> * Original 182 data points reduced to 17"
   ]
  },
  {
   "cell_type": "code",
   "execution_count": 2,
   "metadata": {},
   "outputs": [
    {
     "data": {
      "text/html": [
       "<div>\n",
       "<style scoped>\n",
       "    .dataframe tbody tr th:only-of-type {\n",
       "        vertical-align: middle;\n",
       "    }\n",
       "\n",
       "    .dataframe tbody tr th {\n",
       "        vertical-align: top;\n",
       "    }\n",
       "\n",
       "    .dataframe thead th {\n",
       "        text-align: right;\n",
       "    }\n",
       "</style>\n",
       "<table border=\"1\" class=\"dataframe\">\n",
       "  <thead>\n",
       "    <tr style=\"text-align: right;\">\n",
       "      <th></th>\n",
       "      <th>ID</th>\n",
       "      <th>State</th>\n",
       "      <th>Age</th>\n",
       "      <th>Gender</th>\n",
       "      <th>Citizenship</th>\n",
       "      <th>Ethnicity</th>\n",
       "      <th>Residency</th>\n",
       "      <th>Admit Term</th>\n",
       "      <th>College</th>\n",
       "      <th>Degree / Non-Degree</th>\n",
       "      <th>Application Center</th>\n",
       "      <th>Admit Type</th>\n",
       "      <th>Status</th>\n",
       "      <th>Application Date</th>\n",
       "      <th>Admit Status</th>\n",
       "      <th>Enrolled Status</th>\n",
       "      <th>Withdrew?</th>\n",
       "    </tr>\n",
       "  </thead>\n",
       "  <tbody>\n",
       "    <tr>\n",
       "      <th>0</th>\n",
       "      <td>132441</td>\n",
       "      <td>KS</td>\n",
       "      <td>70.0</td>\n",
       "      <td>M</td>\n",
       "      <td>US</td>\n",
       "      <td>African American</td>\n",
       "      <td>IS</td>\n",
       "      <td>Fall 2019</td>\n",
       "      <td>Health &amp; Human Sciences</td>\n",
       "      <td>Degree</td>\n",
       "      <td>Global Campus</td>\n",
       "      <td>Online</td>\n",
       "      <td>Cancelled</td>\n",
       "      <td>2019-05-16</td>\n",
       "      <td>Admitted</td>\n",
       "      <td>Not Enrolled</td>\n",
       "      <td>N</td>\n",
       "    </tr>\n",
       "    <tr>\n",
       "      <th>1</th>\n",
       "      <td>921672</td>\n",
       "      <td>CA</td>\n",
       "      <td>69.0</td>\n",
       "      <td>M</td>\n",
       "      <td>US</td>\n",
       "      <td>White</td>\n",
       "      <td>OS</td>\n",
       "      <td>Fall 2019</td>\n",
       "      <td>Agriculture</td>\n",
       "      <td>Non-Degree</td>\n",
       "      <td>Global Campus</td>\n",
       "      <td>Online</td>\n",
       "      <td>Active</td>\n",
       "      <td>2019-07-25</td>\n",
       "      <td>Admitted</td>\n",
       "      <td>Not Enrolled</td>\n",
       "      <td>N</td>\n",
       "    </tr>\n",
       "    <tr>\n",
       "      <th>2</th>\n",
       "      <td>922050</td>\n",
       "      <td>KS</td>\n",
       "      <td>67.0</td>\n",
       "      <td>M</td>\n",
       "      <td>US</td>\n",
       "      <td>White</td>\n",
       "      <td>IS</td>\n",
       "      <td>Fall 2019</td>\n",
       "      <td>Technology &amp; Aviation</td>\n",
       "      <td>Non-Degree</td>\n",
       "      <td>Polytechnic</td>\n",
       "      <td>Freshman</td>\n",
       "      <td>Active</td>\n",
       "      <td>2019-08-05</td>\n",
       "      <td>Admitted</td>\n",
       "      <td>Enrolled</td>\n",
       "      <td>N</td>\n",
       "    </tr>\n",
       "    <tr>\n",
       "      <th>3</th>\n",
       "      <td>922182</td>\n",
       "      <td>KS</td>\n",
       "      <td>63.0</td>\n",
       "      <td>F</td>\n",
       "      <td>US</td>\n",
       "      <td>White</td>\n",
       "      <td>IS</td>\n",
       "      <td>Fall 2019</td>\n",
       "      <td>Health &amp; Human Sciences</td>\n",
       "      <td>Non-Degree</td>\n",
       "      <td>Global Campus</td>\n",
       "      <td>Transfer</td>\n",
       "      <td>Active</td>\n",
       "      <td>2019-08-07</td>\n",
       "      <td>Admitted</td>\n",
       "      <td>Not Enrolled</td>\n",
       "      <td>N</td>\n",
       "    </tr>\n",
       "    <tr>\n",
       "      <th>4</th>\n",
       "      <td>905009</td>\n",
       "      <td>KS</td>\n",
       "      <td>63.0</td>\n",
       "      <td>M</td>\n",
       "      <td>US</td>\n",
       "      <td>White</td>\n",
       "      <td>IS</td>\n",
       "      <td>Fall 2019</td>\n",
       "      <td>Arts &amp; Sciences</td>\n",
       "      <td>Degree</td>\n",
       "      <td>Manhattan Main Campus</td>\n",
       "      <td>Readmit</td>\n",
       "      <td>Active</td>\n",
       "      <td>2019-05-21</td>\n",
       "      <td>Admitted</td>\n",
       "      <td>Enrolled</td>\n",
       "      <td>N</td>\n",
       "    </tr>\n",
       "  </tbody>\n",
       "</table>\n",
       "</div>"
      ],
      "text/plain": [
       "       ID State   Age Gender Citizenship         Ethnicity Residency  \\\n",
       "0  132441    KS  70.0      M          US  African American        IS   \n",
       "1  921672    CA  69.0      M          US             White        OS   \n",
       "2  922050    KS  67.0      M          US             White        IS   \n",
       "3  922182    KS  63.0      F          US             White        IS   \n",
       "4  905009    KS  63.0      M          US             White        IS   \n",
       "\n",
       "  Admit Term                  College Degree / Non-Degree  \\\n",
       "0  Fall 2019  Health & Human Sciences              Degree   \n",
       "1  Fall 2019              Agriculture          Non-Degree   \n",
       "2  Fall 2019    Technology & Aviation          Non-Degree   \n",
       "3  Fall 2019  Health & Human Sciences          Non-Degree   \n",
       "4  Fall 2019          Arts & Sciences              Degree   \n",
       "\n",
       "      Application Center Admit Type     Status Application Date Admit Status  \\\n",
       "0          Global Campus     Online  Cancelled       2019-05-16     Admitted   \n",
       "1          Global Campus     Online     Active       2019-07-25     Admitted   \n",
       "2            Polytechnic   Freshman     Active       2019-08-05     Admitted   \n",
       "3          Global Campus   Transfer     Active       2019-08-07     Admitted   \n",
       "4  Manhattan Main Campus    Readmit     Active       2019-05-21     Admitted   \n",
       "\n",
       "  Enrolled Status Withdrew?  \n",
       "0    Not Enrolled         N  \n",
       "1    Not Enrolled         N  \n",
       "2        Enrolled         N  \n",
       "3    Not Enrolled         N  \n",
       "4        Enrolled         N  "
      ]
     },
     "execution_count": 2,
     "metadata": {},
     "output_type": "execute_result"
    }
   ],
   "source": [
    "# Read and save master data file to continue processing\n",
    "stdnt_data = pd.read_excel('Student Data 2012 - 2019.xlsx')\n",
    "stdnt_data.head()"
   ]
  },
  {
   "cell_type": "markdown",
   "metadata": {},
   "source": [
    "### 2. Data Transformation and Cleaning"
   ]
  },
  {
   "cell_type": "code",
   "execution_count": 3,
   "metadata": {},
   "outputs": [
    {
     "name": "stdout",
     "output_type": "stream",
     "text": [
      "<class 'pandas.core.frame.DataFrame'>\n",
      "RangeIndex: 111615 entries, 0 to 111614\n",
      "Data columns (total 17 columns):\n",
      " #   Column               Non-Null Count   Dtype         \n",
      "---  ------               --------------   -----         \n",
      " 0   ID                   111615 non-null  int64         \n",
      " 1   State                101086 non-null  object        \n",
      " 2   Age                  111614 non-null  float64       \n",
      " 3   Gender               111615 non-null  object        \n",
      " 4   Citizenship          111615 non-null  object        \n",
      " 5   Ethnicity            111615 non-null  object        \n",
      " 6   Residency            111615 non-null  object        \n",
      " 7   Admit Term           111615 non-null  object        \n",
      " 8   College              111615 non-null  object        \n",
      " 9   Degree / Non-Degree  111615 non-null  object        \n",
      " 10  Application Center   111615 non-null  object        \n",
      " 11  Admit Type           111615 non-null  object        \n",
      " 12  Status               111615 non-null  object        \n",
      " 13  Application Date     111615 non-null  datetime64[ns]\n",
      " 14  Admit Status         111615 non-null  object        \n",
      " 15  Enrolled Status      111615 non-null  object        \n",
      " 16  Withdrew?            111615 non-null  object        \n",
      "dtypes: datetime64[ns](1), float64(1), int64(1), object(14)\n",
      "memory usage: 14.5+ MB\n"
     ]
    }
   ],
   "source": [
    "# Verify data types in file\n",
    "stdnt_data.info()"
   ]
  },
  {
   "cell_type": "markdown",
   "metadata": {},
   "source": [
    "> Looking at the counts we can see that there are some null values in the 'State' and 'Age' columns."
   ]
  },
  {
   "cell_type": "code",
   "execution_count": 4,
   "metadata": {},
   "outputs": [],
   "source": [
    "# Fill cells with null values \n",
    "stdnt_data = stdnt_data.fillna({'State':'No State'})"
   ]
  },
  {
   "cell_type": "code",
   "execution_count": 5,
   "metadata": {},
   "outputs": [
    {
     "data": {
      "text/plain": [
       "20.38497858691562"
      ]
     },
     "execution_count": 5,
     "metadata": {},
     "output_type": "execute_result"
    }
   ],
   "source": [
    "# Find mean age to fill null value(s)\n",
    "stdnt_data['Age'].mean()"
   ]
  },
  {
   "cell_type": "code",
   "execution_count": 6,
   "metadata": {},
   "outputs": [],
   "source": [
    "# Replace null values with mean age (rounded)\n",
    "stdnt_data = stdnt_data.fillna({'Age':20})"
   ]
  },
  {
   "cell_type": "code",
   "execution_count": 7,
   "metadata": {},
   "outputs": [
    {
     "data": {
      "text/plain": [
       "ID                     0\n",
       "State                  0\n",
       "Age                    0\n",
       "Gender                 0\n",
       "Citizenship            0\n",
       "Ethnicity              0\n",
       "Residency              0\n",
       "Admit Term             0\n",
       "College                0\n",
       "Degree / Non-Degree    0\n",
       "Application Center     0\n",
       "Admit Type             0\n",
       "Status                 0\n",
       "Application Date       0\n",
       "Admit Status           0\n",
       "Enrolled Status        0\n",
       "Withdrew?              0\n",
       "dtype: int64"
      ]
     },
     "execution_count": 7,
     "metadata": {},
     "output_type": "execute_result"
    }
   ],
   "source": [
    "#Verify no remaining null values\n",
    "stdnt_data.isnull().sum()"
   ]
  },
  {
   "cell_type": "code",
   "execution_count": 8,
   "metadata": {},
   "outputs": [
    {
     "name": "stdout",
     "output_type": "stream",
     "text": [
      "<class 'pandas.core.frame.DataFrame'>\n",
      "RangeIndex: 111615 entries, 0 to 111614\n",
      "Data columns (total 17 columns):\n",
      " #   Column               Non-Null Count   Dtype         \n",
      "---  ------               --------------   -----         \n",
      " 0   ID                   111615 non-null  int64         \n",
      " 1   State                111615 non-null  object        \n",
      " 2   Age                  111615 non-null  int64         \n",
      " 3   Gender               111615 non-null  object        \n",
      " 4   Citizenship          111615 non-null  object        \n",
      " 5   Ethnicity            111615 non-null  object        \n",
      " 6   Residency            111615 non-null  object        \n",
      " 7   Admit Term           111615 non-null  object        \n",
      " 8   College              111615 non-null  object        \n",
      " 9   Degree / Non-Degree  111615 non-null  object        \n",
      " 10  Application Center   111615 non-null  object        \n",
      " 11  Admit Type           111615 non-null  object        \n",
      " 12  Status               111615 non-null  object        \n",
      " 13  Application Date     111615 non-null  datetime64[ns]\n",
      " 14  Admit Status         111615 non-null  object        \n",
      " 15  Enrolled Status      111615 non-null  object        \n",
      " 16  Withdrew?            111615 non-null  object        \n",
      "dtypes: datetime64[ns](1), int64(2), object(14)\n",
      "memory usage: 14.5+ MB\n"
     ]
    }
   ],
   "source": [
    "# Change data type of age from float to int; this removes the decimal\n",
    "stdnt_data['Age'] = stdnt_data['Age'].astype('int64')\n",
    "stdnt_data.info()"
   ]
  },
  {
   "cell_type": "code",
   "execution_count": 9,
   "metadata": {},
   "outputs": [
    {
     "data": {
      "text/html": [
       "<div>\n",
       "<style scoped>\n",
       "    .dataframe tbody tr th:only-of-type {\n",
       "        vertical-align: middle;\n",
       "    }\n",
       "\n",
       "    .dataframe tbody tr th {\n",
       "        vertical-align: top;\n",
       "    }\n",
       "\n",
       "    .dataframe thead th {\n",
       "        text-align: right;\n",
       "    }\n",
       "</style>\n",
       "<table border=\"1\" class=\"dataframe\">\n",
       "  <thead>\n",
       "    <tr style=\"text-align: right;\">\n",
       "      <th></th>\n",
       "      <th>ID</th>\n",
       "      <th>State</th>\n",
       "      <th>Age</th>\n",
       "      <th>Gender</th>\n",
       "      <th>Citizenship</th>\n",
       "      <th>Ethnicity</th>\n",
       "      <th>Residency</th>\n",
       "      <th>Admit Term</th>\n",
       "      <th>College</th>\n",
       "      <th>Degree / Non-Degree</th>\n",
       "      <th>Application Center</th>\n",
       "      <th>Admit Type</th>\n",
       "      <th>Status</th>\n",
       "      <th>Application Date</th>\n",
       "      <th>Admit Status</th>\n",
       "      <th>Enrolled Status</th>\n",
       "      <th>Withdrew?</th>\n",
       "    </tr>\n",
       "  </thead>\n",
       "  <tbody>\n",
       "    <tr>\n",
       "      <th>0</th>\n",
       "      <td>132441</td>\n",
       "      <td>KS</td>\n",
       "      <td>70</td>\n",
       "      <td>M</td>\n",
       "      <td>US</td>\n",
       "      <td>African American</td>\n",
       "      <td>IS</td>\n",
       "      <td>Fall 2019</td>\n",
       "      <td>Health &amp; Human Sciences</td>\n",
       "      <td>Degree</td>\n",
       "      <td>Global Campus</td>\n",
       "      <td>Online</td>\n",
       "      <td>Cancelled</td>\n",
       "      <td>2019-05-16</td>\n",
       "      <td>Admitted</td>\n",
       "      <td>Not Enrolled</td>\n",
       "      <td>N</td>\n",
       "    </tr>\n",
       "  </tbody>\n",
       "</table>\n",
       "</div>"
      ],
      "text/plain": [
       "       ID State  Age Gender Citizenship         Ethnicity Residency  \\\n",
       "0  132441    KS   70      M          US  African American        IS   \n",
       "\n",
       "  Admit Term                  College Degree / Non-Degree Application Center  \\\n",
       "0  Fall 2019  Health & Human Sciences              Degree      Global Campus   \n",
       "\n",
       "  Admit Type     Status Application Date Admit Status Enrolled Status  \\\n",
       "0     Online  Cancelled       2019-05-16     Admitted    Not Enrolled   \n",
       "\n",
       "  Withdrew?  \n",
       "0         N  "
      ]
     },
     "execution_count": 9,
     "metadata": {},
     "output_type": "execute_result"
    }
   ],
   "source": [
    "stdnt_data.head(1)"
   ]
  },
  {
   "cell_type": "code",
   "execution_count": 10,
   "metadata": {},
   "outputs": [
    {
     "data": {
      "text/plain": [
       "count    111615.000000\n",
       "mean         20.384975\n",
       "std           5.276311\n",
       "min          13.000000\n",
       "25%          18.000000\n",
       "50%          18.000000\n",
       "75%          20.000000\n",
       "max          80.000000\n",
       "Name: Age, dtype: float64"
      ]
     },
     "execution_count": 10,
     "metadata": {},
     "output_type": "execute_result"
    }
   ],
   "source": [
    "# Basic statistics of numeric column 'Age'\n",
    "stdnt_data['Age'].describe()"
   ]
  },
  {
   "cell_type": "markdown",
   "metadata": {},
   "source": [
    "> This basic statistical overview of age, shows us that we have a minimum age value of 13. While we may find during later analysis that this inaccurate, at this time, since we have high school admit types, we will assume it is in fact an accurate depiction of age for an applicant. Therefore we will keep this and not make any changes at this time. "
   ]
  },
  {
   "cell_type": "code",
   "execution_count": 11,
   "metadata": {},
   "outputs": [
    {
     "data": {
      "text/plain": [
       "<matplotlib.axes._subplots.AxesSubplot at 0x1d42b215c08>"
      ]
     },
     "execution_count": 11,
     "metadata": {},
     "output_type": "execute_result"
    },
    {
     "data": {
      "image/png": "[encoded data removed]",
      "text/plain": [
       "<Figure size 432x432 with 1 Axes>"
      ]
     },
     "metadata": {
      "needs_background": "light"
     },
     "output_type": "display_data"
    }
   ],
   "source": [
    "# Histogram of age distribution\n",
    "stdnt_data['Age'].hist(figsize=(6,6))"
   ]
  },
  {
   "cell_type": "markdown",
   "metadata": {},
   "source": [
    "> This visual shows that majority of students are around the age of 20 which agrees with our mean age of 20.38 years."
   ]
  },
  {
   "cell_type": "markdown",
   "metadata": {},
   "source": [
    "### 3. Verify Data Accuracy and Integrity\n",
    "> Use of Group By to allow for quick overview of counts"
   ]
  },
  {
   "cell_type": "code",
   "execution_count": 12,
   "metadata": {},
   "outputs": [
    {
     "data": {
      "text/plain": [
       "Admit Status  Enrolled Status\n",
       "Admitted      Enrolled           51151\n",
       "              Not Enrolled       55255\n",
       "Not Admitted  Not Enrolled        5209\n",
       "dtype: int64"
      ]
     },
     "execution_count": 12,
     "metadata": {},
     "output_type": "execute_result"
    }
   ],
   "source": [
    "# Grouping by admit status and enrolled status allows for counts and checking for inaccuracies;\n",
    "# Students who are not admitted should not show as 'Enrolled'; \n",
    "Adm_Enrolled = stdnt_data.groupby(['Admit Status', 'Enrolled Status']).size()\n",
    "Adm_Enrolled"
   ]
  },
  {
   "cell_type": "markdown",
   "metadata": {},
   "source": [
    "> Results show that we have indeed no enrollments for non-admits"
   ]
  },
  {
   "cell_type": "code",
   "execution_count": 13,
   "metadata": {},
   "outputs": [
    {
     "data": {
      "text/plain": [
       "Admit Status  Withdrew?\n",
       "Admitted      N            105536\n",
       "              Y               870\n",
       "Not Admitted  N              5209\n",
       "dtype: int64"
      ]
     },
     "execution_count": 13,
     "metadata": {},
     "output_type": "execute_result"
    }
   ],
   "source": [
    "# Ensuring no withdrawals for non-admits\n",
    "Adm_Withdr = stdnt_data.groupby(['Admit Status', 'Withdrew?']).size()\n",
    "Adm_Withdr"
   ]
  },
  {
   "cell_type": "markdown",
   "metadata": {},
   "source": [
    "> Results show that we have no withdrawals for non-admits and a total of 870 withdrawals for previously admitted students"
   ]
  },
  {
   "cell_type": "markdown",
   "metadata": {},
   "source": [
    "### We now have a dataset that no longer contains any null values. The validity of the data has been verified by looking at groupings and counts and we can proceed with further analysis. "
   ]
  }
 ],
 "metadata": {
  "kernelspec": {
   "display_name": "Python 3",
   "language": "python",
   "name": "python3"
  },
  "language_info": {
   "codemirror_mode": {
    "name": "ipython",
    "version": 3
   },
   "file_extension": ".py",
   "mimetype": "text/x-python",
   "name": "python",
   "nbconvert_exporter": "python",
   "pygments_lexer": "ipython3",
   "version": "3.7.6"
  }
 },
 "nbformat": 4,
 "nbformat_minor": 4
}

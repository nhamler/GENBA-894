{
 "cells": [
  {
   "cell_type": "code",
   "execution_count": 1,
   "metadata": {},
   "outputs": [],
   "source": [
    "# Import Python packages\n",
    "\n",
    "import pandas as pd\n",
    "import numpy as np\n",
    "import seaborn as sns\n",
    "import matplotlib.pyplot as plt\n",
    "%matplotlib inline\n",
    "\n",
    "from datetime import datetime\n",
    "\n",
    "# Regression packages\n",
    "import sklearn.linear_model as lm\n",
    "from sklearn.metrics import mean_squared_error\n",
    "from sklearn.metrics import explained_variance_score\n",
    "import statsmodels.formula.api as sm\n",
    "from sklearn import linear_model\n",
    "from sklearn.feature_selection import f_regression\n",
    "from sklearn.feature_selection import SelectKBest\n",
    "from sklearn.feature_selection import RFE\n",
    "from sklearn.ensemble import RandomForestRegressor\n",
    "from sklearn.datasets import make_regression\n",
    "from sklearn.svm import SVR"
   ]
  },
  {
   "cell_type": "markdown",
   "metadata": {},
   "source": [
    "### 1. Import Dataset \n",
    "Data Description:\n",
    "* Collected undergraduate student applicant data from the Kansas State University Student Information System (KSIS) \n",
    "* Student applicant demographics\n",
    "* Years: 2012 through 2019\n",
    "\n",
    "Data Fields:\n",
    "> * Student ID: equivalent to primary key identifier\n",
    "> * State: continental US States only\n",
    "> * Age \n",
    "> * Gender\n",
    "> * Citizenship\n",
    "> * Ethnicity: as given by student during application process\n",
    "> * Residency: IS = In-State (KS); OS = Out of State (non-KS)\n",
    "> * Admit Term\n",
    "> * College: college and program that student has applied to\n",
    "> * Degree / Non-Degree: status of application for degree program vs. non-degree program (e.g. certificate)\n",
    "> * Application Center: K-State campust to which student has applied\n",
    "> * Admit Type: traditional freshmen, re-admits, online students, or transfer students\n",
    "> * Status: current status of student's application / program \n",
    "> * Application Date: date when application was submitted to / received by K-State\n",
    "> * Admit Date: date when student was admitted to K-State and into college/program\n",
    "> * Admit Status: if admit date exists = 'Admitted', otherwise: 'Not Admitted'\n",
    "> * Enrollment Date: date when student first enrolled into courses at K-State\n",
    "> * Enrolled Status: if enrollment date exists = 'Enrolled', otherwise: 'Not Enrolled'\n",
    "> * Withdrew?: did the student at any point withdraw after having been admitted\n",
    "\n",
    "Pre-Processing Steps:\n",
    "* Data pre-cleaned via Excel:\n",
    "> * Verified data consistency, integrity, and accuracy\n",
    "> * Deleted identifing information and non-demographic data\n",
    "> * Original 182 data points reduced to 19"
   ]
  },
  {
   "cell_type": "code",
   "execution_count": 2,
   "metadata": {},
   "outputs": [
    {
     "data": {
      "text/html": [
       "<div>\n",
       "<style scoped>\n",
       "    .dataframe tbody tr th:only-of-type {\n",
       "        vertical-align: middle;\n",
       "    }\n",
       "\n",
       "    .dataframe tbody tr th {\n",
       "        vertical-align: top;\n",
       "    }\n",
       "\n",
       "    .dataframe thead th {\n",
       "        text-align: right;\n",
       "    }\n",
       "</style>\n",
       "<table border=\"1\" class=\"dataframe\">\n",
       "  <thead>\n",
       "    <tr style=\"text-align: right;\">\n",
       "      <th></th>\n",
       "      <th>ID</th>\n",
       "      <th>State</th>\n",
       "      <th>Age</th>\n",
       "      <th>Gender</th>\n",
       "      <th>Citizenship</th>\n",
       "      <th>Ethnicity</th>\n",
       "      <th>Residency</th>\n",
       "      <th>Admit Term</th>\n",
       "      <th>College</th>\n",
       "      <th>Degree / Non-Degree</th>\n",
       "      <th>Application Center</th>\n",
       "      <th>Admit Type</th>\n",
       "      <th>Status</th>\n",
       "      <th>Application Date</th>\n",
       "      <th>Admit Date</th>\n",
       "      <th>Admit Status</th>\n",
       "      <th>Enrollment Date</th>\n",
       "      <th>Enrolled Status</th>\n",
       "      <th>Withdrew?</th>\n",
       "    </tr>\n",
       "  </thead>\n",
       "  <tbody>\n",
       "    <tr>\n",
       "      <th>0</th>\n",
       "      <td>132441</td>\n",
       "      <td>KS</td>\n",
       "      <td>70.0</td>\n",
       "      <td>M</td>\n",
       "      <td></td>\n",
       "      <td>African American</td>\n",
       "      <td>IS</td>\n",
       "      <td>Fall 2019</td>\n",
       "      <td>Health &amp; Human Sciences</td>\n",
       "      <td>Degree</td>\n",
       "      <td>Global Campus</td>\n",
       "      <td>Online</td>\n",
       "      <td>Cancelled</td>\n",
       "      <td>2019-05-16 00:00:00</td>\n",
       "      <td>2019-05-21 00:00:00</td>\n",
       "      <td>Admitted</td>\n",
       "      <td></td>\n",
       "      <td>Not Enrolled</td>\n",
       "      <td>N</td>\n",
       "    </tr>\n",
       "    <tr>\n",
       "      <th>1</th>\n",
       "      <td>921672</td>\n",
       "      <td>CA</td>\n",
       "      <td>69.0</td>\n",
       "      <td>M</td>\n",
       "      <td></td>\n",
       "      <td>White</td>\n",
       "      <td>OS</td>\n",
       "      <td>Fall 2019</td>\n",
       "      <td>Agriculture</td>\n",
       "      <td>Non-Degree</td>\n",
       "      <td>Global Campus</td>\n",
       "      <td>Online</td>\n",
       "      <td>Active</td>\n",
       "      <td>2019-07-25 00:00:00</td>\n",
       "      <td>2019-07-26 00:00:00</td>\n",
       "      <td>Admitted</td>\n",
       "      <td></td>\n",
       "      <td>Not Enrolled</td>\n",
       "      <td>N</td>\n",
       "    </tr>\n",
       "    <tr>\n",
       "      <th>2</th>\n",
       "      <td>922050</td>\n",
       "      <td>KS</td>\n",
       "      <td>67.0</td>\n",
       "      <td>M</td>\n",
       "      <td></td>\n",
       "      <td>White</td>\n",
       "      <td>IS</td>\n",
       "      <td>Fall 2019</td>\n",
       "      <td>Technology &amp; Aviation</td>\n",
       "      <td>Non-Degree</td>\n",
       "      <td>Polytechnic</td>\n",
       "      <td>Freshman</td>\n",
       "      <td>Active</td>\n",
       "      <td>2019-08-05 00:00:00</td>\n",
       "      <td>2019-08-14 00:00:00</td>\n",
       "      <td>Admitted</td>\n",
       "      <td>2019-08-23 00:00:00</td>\n",
       "      <td>Enrolled</td>\n",
       "      <td>N</td>\n",
       "    </tr>\n",
       "    <tr>\n",
       "      <th>3</th>\n",
       "      <td>922182</td>\n",
       "      <td>KS</td>\n",
       "      <td>63.0</td>\n",
       "      <td>F</td>\n",
       "      <td></td>\n",
       "      <td>White</td>\n",
       "      <td>IS</td>\n",
       "      <td>Fall 2019</td>\n",
       "      <td>Health &amp; Human Sciences</td>\n",
       "      <td>Non-Degree</td>\n",
       "      <td>Global Campus</td>\n",
       "      <td>Transfer</td>\n",
       "      <td>Active</td>\n",
       "      <td>2019-08-07 00:00:00</td>\n",
       "      <td>2019-08-26 00:00:00</td>\n",
       "      <td>Admitted</td>\n",
       "      <td></td>\n",
       "      <td>Not Enrolled</td>\n",
       "      <td>N</td>\n",
       "    </tr>\n",
       "    <tr>\n",
       "      <th>4</th>\n",
       "      <td>905009</td>\n",
       "      <td>KS</td>\n",
       "      <td>63.0</td>\n",
       "      <td>M</td>\n",
       "      <td></td>\n",
       "      <td>White</td>\n",
       "      <td>IS</td>\n",
       "      <td>Fall 2019</td>\n",
       "      <td>Arts &amp; Sciences</td>\n",
       "      <td>Degree</td>\n",
       "      <td>Manhattan Main Campus</td>\n",
       "      <td>Readmit</td>\n",
       "      <td>Active</td>\n",
       "      <td>2019-05-21 00:00:00</td>\n",
       "      <td>2019-05-22 00:00:00</td>\n",
       "      <td>Admitted</td>\n",
       "      <td>2019-06-24 00:00:00</td>\n",
       "      <td>Enrolled</td>\n",
       "      <td>N</td>\n",
       "    </tr>\n",
       "  </tbody>\n",
       "</table>\n",
       "</div>"
      ],
      "text/plain": [
       "       ID State   Age Gender Citizenship         Ethnicity Residency  \\\n",
       "0  132441    KS  70.0      M              African American        IS   \n",
       "1  921672    CA  69.0      M                         White        OS   \n",
       "2  922050    KS  67.0      M                         White        IS   \n",
       "3  922182    KS  63.0      F                         White        IS   \n",
       "4  905009    KS  63.0      M                         White        IS   \n",
       "\n",
       "  Admit Term                  College Degree / Non-Degree  \\\n",
       "0  Fall 2019  Health & Human Sciences              Degree   \n",
       "1  Fall 2019              Agriculture          Non-Degree   \n",
       "2  Fall 2019    Technology & Aviation          Non-Degree   \n",
       "3  Fall 2019  Health & Human Sciences          Non-Degree   \n",
       "4  Fall 2019          Arts & Sciences              Degree   \n",
       "\n",
       "      Application Center Admit Type     Status     Application Date  \\\n",
       "0          Global Campus     Online  Cancelled  2019-05-16 00:00:00   \n",
       "1          Global Campus     Online     Active  2019-07-25 00:00:00   \n",
       "2            Polytechnic   Freshman     Active  2019-08-05 00:00:00   \n",
       "3          Global Campus   Transfer     Active  2019-08-07 00:00:00   \n",
       "4  Manhattan Main Campus    Readmit     Active  2019-05-21 00:00:00   \n",
       "\n",
       "            Admit Date Admit Status      Enrollment Date Enrolled Status  \\\n",
       "0  2019-05-21 00:00:00     Admitted                         Not Enrolled   \n",
       "1  2019-07-26 00:00:00     Admitted                         Not Enrolled   \n",
       "2  2019-08-14 00:00:00     Admitted  2019-08-23 00:00:00        Enrolled   \n",
       "3  2019-08-26 00:00:00     Admitted                         Not Enrolled   \n",
       "4  2019-05-22 00:00:00     Admitted  2019-06-24 00:00:00        Enrolled   \n",
       "\n",
       "  Withdrew?  \n",
       "0         N  \n",
       "1         N  \n",
       "2         N  \n",
       "3         N  \n",
       "4         N  "
      ]
     },
     "execution_count": 2,
     "metadata": {},
     "output_type": "execute_result"
    }
   ],
   "source": [
    "# Read and save master data file to continue processing\n",
    "stdnt_data = pd.read_excel('Student Data 2012 - 2019.xlsx')\n",
    "stdnt_data.head()"
   ]
  },
  {
   "cell_type": "markdown",
   "metadata": {},
   "source": [
    "### 2. Data Transformation and Cleaning"
   ]
  },
  {
   "cell_type": "code",
   "execution_count": 3,
   "metadata": {},
   "outputs": [
    {
     "name": "stdout",
     "output_type": "stream",
     "text": [
      "<class 'pandas.core.frame.DataFrame'>\n",
      "RangeIndex: 132730 entries, 0 to 132729\n",
      "Data columns (total 19 columns):\n",
      " #   Column               Non-Null Count   Dtype  \n",
      "---  ------               --------------   -----  \n",
      " 0   ID                   132730 non-null  int64  \n",
      " 1   State                131798 non-null  object \n",
      " 2   Age                  132727 non-null  float64\n",
      " 3   Gender               132730 non-null  object \n",
      " 4   Citizenship          132730 non-null  object \n",
      " 5   Ethnicity            132730 non-null  object \n",
      " 6   Residency            132730 non-null  object \n",
      " 7   Admit Term           132730 non-null  object \n",
      " 8   College              132730 non-null  object \n",
      " 9   Degree / Non-Degree  132730 non-null  object \n",
      " 10  Application Center   132730 non-null  object \n",
      " 11  Admit Type           132730 non-null  object \n",
      " 12  Status               132730 non-null  object \n",
      " 13  Application Date     132730 non-null  object \n",
      " 14  Admit Date           132730 non-null  object \n",
      " 15  Admit Status         132730 non-null  object \n",
      " 16  Enrollment Date      132707 non-null  object \n",
      " 17  Enrolled Status      132730 non-null  object \n",
      " 18  Withdrew?            132730 non-null  object \n",
      "dtypes: float64(1), int64(1), object(17)\n",
      "memory usage: 19.2+ MB\n"
     ]
    }
   ],
   "source": [
    "# Verify data types in file\n",
    "stdnt_data.info()"
   ]
  },
  {
   "cell_type": "code",
   "execution_count": 4,
   "metadata": {},
   "outputs": [],
   "source": [
    "# Fill cells with null values \n",
    "stdnt_data = stdnt_data.fillna({'State':'No State'})\n",
    "stdnt_data = stdnt_data.fillna({'Enrollment Date':''})"
   ]
  },
  {
   "cell_type": "code",
   "execution_count": 5,
   "metadata": {},
   "outputs": [
    {
     "data": {
      "text/plain": [
       "20.635055414497426"
      ]
     },
     "execution_count": 5,
     "metadata": {},
     "output_type": "execute_result"
    }
   ],
   "source": [
    "# Find mean age to fill null value(s)\n",
    "stdnt_data['Age'].mean()"
   ]
  },
  {
   "cell_type": "code",
   "execution_count": 6,
   "metadata": {},
   "outputs": [],
   "source": [
    "# Replace null values with mean age (rounded)\n",
    "stdnt_data = stdnt_data.fillna({'Age':21})"
   ]
  },
  {
   "cell_type": "code",
   "execution_count": 7,
   "metadata": {},
   "outputs": [
    {
     "data": {
      "text/plain": [
       "ID                     0\n",
       "State                  0\n",
       "Age                    0\n",
       "Gender                 0\n",
       "Citizenship            0\n",
       "Ethnicity              0\n",
       "Residency              0\n",
       "Admit Term             0\n",
       "College                0\n",
       "Degree / Non-Degree    0\n",
       "Application Center     0\n",
       "Admit Type             0\n",
       "Status                 0\n",
       "Application Date       0\n",
       "Admit Date             0\n",
       "Admit Status           0\n",
       "Enrollment Date        0\n",
       "Enrolled Status        0\n",
       "Withdrew?              0\n",
       "dtype: int64"
      ]
     },
     "execution_count": 7,
     "metadata": {},
     "output_type": "execute_result"
    }
   ],
   "source": [
    "#Verify no remaining null values\n",
    "stdnt_data.isnull().sum()"
   ]
  },
  {
   "cell_type": "code",
   "execution_count": 8,
   "metadata": {},
   "outputs": [
    {
     "name": "stdout",
     "output_type": "stream",
     "text": [
      "<class 'pandas.core.frame.DataFrame'>\n",
      "RangeIndex: 132730 entries, 0 to 132729\n",
      "Data columns (total 19 columns):\n",
      " #   Column               Non-Null Count   Dtype \n",
      "---  ------               --------------   ----- \n",
      " 0   ID                   132730 non-null  int64 \n",
      " 1   State                132730 non-null  object\n",
      " 2   Age                  132730 non-null  int64 \n",
      " 3   Gender               132730 non-null  object\n",
      " 4   Citizenship          132730 non-null  object\n",
      " 5   Ethnicity            132730 non-null  object\n",
      " 6   Residency            132730 non-null  object\n",
      " 7   Admit Term           132730 non-null  object\n",
      " 8   College              132730 non-null  object\n",
      " 9   Degree / Non-Degree  132730 non-null  object\n",
      " 10  Application Center   132730 non-null  object\n",
      " 11  Admit Type           132730 non-null  object\n",
      " 12  Status               132730 non-null  object\n",
      " 13  Application Date     132730 non-null  object\n",
      " 14  Admit Date           132730 non-null  object\n",
      " 15  Admit Status         132730 non-null  object\n",
      " 16  Enrollment Date      132730 non-null  object\n",
      " 17  Enrolled Status      132730 non-null  object\n",
      " 18  Withdrew?            132730 non-null  object\n",
      "dtypes: int64(2), object(17)\n",
      "memory usage: 19.2+ MB\n"
     ]
    }
   ],
   "source": [
    "# Change data type of age from float to int \n",
    "stdnt_data['Age'] = stdnt_data['Age'].astype('int64')\n",
    "stdnt_data.info()"
   ]
  },
  {
   "cell_type": "code",
   "execution_count": 9,
   "metadata": {},
   "outputs": [
    {
     "data": {
      "text/plain": [
       "count    132730.000000\n",
       "mean         20.635064\n",
       "std           5.547404\n",
       "min          13.000000\n",
       "25%          18.000000\n",
       "50%          18.000000\n",
       "75%          21.000000\n",
       "max          87.000000\n",
       "Name: Age, dtype: float64"
      ]
     },
     "execution_count": 9,
     "metadata": {},
     "output_type": "execute_result"
    }
   ],
   "source": [
    "# Basic statistics of numeric column 'Age'\n",
    "stdnt_data['Age'].describe()"
   ]
  },
  {
   "cell_type": "code",
   "execution_count": 10,
   "metadata": {},
   "outputs": [
    {
     "data": {
      "text/plain": [
       "<matplotlib.axes._subplots.AxesSubplot at 0x27d88891488>"
      ]
     },
     "execution_count": 10,
     "metadata": {},
     "output_type": "execute_result"
    },
    {
     "data": {
      "image/png": "[encoded data removed]",
      "text/plain": [
       "<Figure size 576x576 with 1 Axes>"
      ]
     },
     "metadata": {
      "needs_background": "light"
     },
     "output_type": "display_data"
    }
   ],
   "source": [
    "# Histogram of age distribution\n",
    "stdnt_data['Age'].hist(figsize=(8,8))"
   ]
  },
  {
   "cell_type": "markdown",
   "metadata": {},
   "source": [
    "> This visual shows that majority of students are around the age of 20 which agrees with out mean age of 20.64 years."
   ]
  },
  {
   "cell_type": "markdown",
   "metadata": {},
   "source": [
    "### 3. Verify Data Accuracy and Integrity\n",
    "> Use of Group By to allow for quick overview of counts"
   ]
  },
  {
   "cell_type": "code",
   "execution_count": 11,
   "metadata": {},
   "outputs": [
    {
     "data": {
      "text/plain": [
       "Admit Status  Enrolled Status\n",
       "Admitted      Enrolled           51151\n",
       "              Not Enrolled       55255\n",
       "Not Admitted  Not Enrolled       26324\n",
       "dtype: int64"
      ]
     },
     "execution_count": 11,
     "metadata": {},
     "output_type": "execute_result"
    }
   ],
   "source": [
    "# Grouping by admit status and enrolled status allows for counts and checking for inaccuracies;\n",
    "# Students who are not admitted should not have an enrollment date; \n",
    "Adm_Enrolled = stdnt_data.groupby(['Admit Status', 'Enrolled Status']).size()\n",
    "Adm_Enrolled"
   ]
  },
  {
   "cell_type": "markdown",
   "metadata": {},
   "source": [
    "> Results show that we have indeed no enrollments for non-admits"
   ]
  },
  {
   "cell_type": "code",
   "execution_count": 12,
   "metadata": {},
   "outputs": [
    {
     "data": {
      "text/plain": [
       "Admit Status  Withdrew?\n",
       "Admitted      N            105536\n",
       "              Y               870\n",
       "Not Admitted  N             26324\n",
       "dtype: int64"
      ]
     },
     "execution_count": 12,
     "metadata": {},
     "output_type": "execute_result"
    }
   ],
   "source": [
    "# Ensuring no withdrawals for non-admits\n",
    "Adm_Withdr = stdnt_data.groupby(['Admit Status', 'Withdrew?']).size()\n",
    "Adm_Withdr"
   ]
  },
  {
   "cell_type": "markdown",
   "metadata": {},
   "source": [
    "> Results show that we have no withdrawals for non-admits and a total of 870 withdrawals for previously admitted students"
   ]
  },
  {
   "cell_type": "markdown",
   "metadata": {},
   "source": [
    "### We now have a dataset that no longer contains any null values. The validity of the data has been verified by looking at groupings and counts and we can proceed with further analysis. "
   ]
  },
  {
   "cell_type": "code",
   "execution_count": null,
   "metadata": {},
   "outputs": [],
   "source": []
  }
 ],
 "metadata": {
  "kernelspec": {
   "display_name": "Python 3",
   "language": "python",
   "name": "python3"
  },
  "language_info": {
   "codemirror_mode": {
    "name": "ipython",
    "version": 3
   },
   "file_extension": ".py",
   "mimetype": "text/x-python",
   "name": "python",
   "nbconvert_exporter": "python",
   "pygments_lexer": "ipython3",
   "version": "3.7.6"
  }
 },
 "nbformat": 4,
 "nbformat_minor": 4
}
